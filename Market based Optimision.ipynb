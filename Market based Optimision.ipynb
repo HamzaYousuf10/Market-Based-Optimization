{
 "cells": [
  {
   "cell_type": "markdown",
   "id": "409bd8a4",
   "metadata": {},
   "source": [
    "# Market Basket Optimisation"
   ]
  },
  {
   "cell_type": "markdown",
   "id": "a2529d62",
   "metadata": {},
   "source": [
    "## 1. Overview"
   ]
  },
  {
   "cell_type": "markdown",
   "id": "c95d26f8",
   "metadata": {},
   "source": [
    "Frequent Itemsets via Apriori Algorithm Apriori function to extract frequent itemsets for association rule mining We have a dataset of a mall with 7500 transactions of different customers buying different items from the store. We have to find correlations between the different items in the store. so that we can know if a customer is buying apple, banana and mango. what is the next item, The customer would be interested in buying from the store.\n",
    "\n",
    "Apriori is a popular algorithm for extracting frequent itemsets with applications in association rule learning. The apriori algorithm has been designed to operate on databases containing transactions, such as purchases by customers of a store. An itemset is considered as \"frequent\" if it meets a user-specified support threshold. For instance, if the support threshold is set to 0.5 (50%), a frequent itemset is defined as a set of items that occur together in at least 50% of all transactions in the database."
   ]
  },
  {
   "cell_type": "markdown",
   "id": "c3a52bd0",
   "metadata": {},
   "source": [
    "## 2. Essential imports"
   ]
  },
  {
   "cell_type": "code",
   "execution_count": 17,
   "id": "843513e0",
   "metadata": {},
   "outputs": [],
   "source": [
    "import numpy as np\n",
    "import pandas as pd\n",
    "\n",
    "# for visualizations\n",
    "import matplotlib.pyplot as plt\n",
    "import seaborn as sns\n",
    "plt.style.use('fivethirtyeight')\n",
    "import plotly.express as px\n",
    "\n",
    "\n",
    "# for market basket analysis\n",
    "from mlxtend.frequent_patterns import apriori\n",
    "from mlxtend.frequent_patterns import association_rules"
   ]
  },
  {
   "cell_type": "markdown",
   "id": "be6144d3",
   "metadata": {},
   "source": [
    "## 3. Importing the Data"
   ]
  },
  {
   "cell_type": "code",
   "execution_count": 7,
   "id": "42183985",
   "metadata": {},
   "outputs": [],
   "source": [
    "data = pd.read_csv('Market_Basket_Optimisation.csv', header = None)"
   ]
  },
  {
   "cell_type": "code",
   "execution_count": 8,
   "id": "22f11549",
   "metadata": {},
   "outputs": [
    {
     "data": {
      "text/html": [
       "<div>\n",
       "<style scoped>\n",
       "    .dataframe tbody tr th:only-of-type {\n",
       "        vertical-align: middle;\n",
       "    }\n",
       "\n",
       "    .dataframe tbody tr th {\n",
       "        vertical-align: top;\n",
       "    }\n",
       "\n",
       "    .dataframe thead th {\n",
       "        text-align: right;\n",
       "    }\n",
       "</style>\n",
       "<table border=\"1\" class=\"dataframe\">\n",
       "  <thead>\n",
       "    <tr style=\"text-align: right;\">\n",
       "      <th></th>\n",
       "      <th>0</th>\n",
       "      <th>1</th>\n",
       "      <th>2</th>\n",
       "      <th>3</th>\n",
       "      <th>4</th>\n",
       "      <th>5</th>\n",
       "      <th>6</th>\n",
       "      <th>7</th>\n",
       "      <th>8</th>\n",
       "      <th>9</th>\n",
       "      <th>10</th>\n",
       "      <th>11</th>\n",
       "      <th>12</th>\n",
       "      <th>13</th>\n",
       "      <th>14</th>\n",
       "      <th>15</th>\n",
       "      <th>16</th>\n",
       "      <th>17</th>\n",
       "      <th>18</th>\n",
       "      <th>19</th>\n",
       "    </tr>\n",
       "  </thead>\n",
       "  <tbody>\n",
       "    <tr>\n",
       "      <th>0</th>\n",
       "      <td>shrimp</td>\n",
       "      <td>almonds</td>\n",
       "      <td>avocado</td>\n",
       "      <td>vegetables mix</td>\n",
       "      <td>green grapes</td>\n",
       "      <td>whole weat flour</td>\n",
       "      <td>yams</td>\n",
       "      <td>cottage cheese</td>\n",
       "      <td>energy drink</td>\n",
       "      <td>tomato juice</td>\n",
       "      <td>low fat yogurt</td>\n",
       "      <td>green tea</td>\n",
       "      <td>honey</td>\n",
       "      <td>salad</td>\n",
       "      <td>mineral water</td>\n",
       "      <td>salmon</td>\n",
       "      <td>antioxydant juice</td>\n",
       "      <td>frozen smoothie</td>\n",
       "      <td>spinach</td>\n",
       "      <td>olive oil</td>\n",
       "    </tr>\n",
       "    <tr>\n",
       "      <th>1</th>\n",
       "      <td>burgers</td>\n",
       "      <td>meatballs</td>\n",
       "      <td>eggs</td>\n",
       "      <td>NaN</td>\n",
       "      <td>NaN</td>\n",
       "      <td>NaN</td>\n",
       "      <td>NaN</td>\n",
       "      <td>NaN</td>\n",
       "      <td>NaN</td>\n",
       "      <td>NaN</td>\n",
       "      <td>NaN</td>\n",
       "      <td>NaN</td>\n",
       "      <td>NaN</td>\n",
       "      <td>NaN</td>\n",
       "      <td>NaN</td>\n",
       "      <td>NaN</td>\n",
       "      <td>NaN</td>\n",
       "      <td>NaN</td>\n",
       "      <td>NaN</td>\n",
       "      <td>NaN</td>\n",
       "    </tr>\n",
       "    <tr>\n",
       "      <th>2</th>\n",
       "      <td>chutney</td>\n",
       "      <td>NaN</td>\n",
       "      <td>NaN</td>\n",
       "      <td>NaN</td>\n",
       "      <td>NaN</td>\n",
       "      <td>NaN</td>\n",
       "      <td>NaN</td>\n",
       "      <td>NaN</td>\n",
       "      <td>NaN</td>\n",
       "      <td>NaN</td>\n",
       "      <td>NaN</td>\n",
       "      <td>NaN</td>\n",
       "      <td>NaN</td>\n",
       "      <td>NaN</td>\n",
       "      <td>NaN</td>\n",
       "      <td>NaN</td>\n",
       "      <td>NaN</td>\n",
       "      <td>NaN</td>\n",
       "      <td>NaN</td>\n",
       "      <td>NaN</td>\n",
       "    </tr>\n",
       "    <tr>\n",
       "      <th>3</th>\n",
       "      <td>turkey</td>\n",
       "      <td>avocado</td>\n",
       "      <td>NaN</td>\n",
       "      <td>NaN</td>\n",
       "      <td>NaN</td>\n",
       "      <td>NaN</td>\n",
       "      <td>NaN</td>\n",
       "      <td>NaN</td>\n",
       "      <td>NaN</td>\n",
       "      <td>NaN</td>\n",
       "      <td>NaN</td>\n",
       "      <td>NaN</td>\n",
       "      <td>NaN</td>\n",
       "      <td>NaN</td>\n",
       "      <td>NaN</td>\n",
       "      <td>NaN</td>\n",
       "      <td>NaN</td>\n",
       "      <td>NaN</td>\n",
       "      <td>NaN</td>\n",
       "      <td>NaN</td>\n",
       "    </tr>\n",
       "    <tr>\n",
       "      <th>4</th>\n",
       "      <td>mineral water</td>\n",
       "      <td>milk</td>\n",
       "      <td>energy bar</td>\n",
       "      <td>whole wheat rice</td>\n",
       "      <td>green tea</td>\n",
       "      <td>NaN</td>\n",
       "      <td>NaN</td>\n",
       "      <td>NaN</td>\n",
       "      <td>NaN</td>\n",
       "      <td>NaN</td>\n",
       "      <td>NaN</td>\n",
       "      <td>NaN</td>\n",
       "      <td>NaN</td>\n",
       "      <td>NaN</td>\n",
       "      <td>NaN</td>\n",
       "      <td>NaN</td>\n",
       "      <td>NaN</td>\n",
       "      <td>NaN</td>\n",
       "      <td>NaN</td>\n",
       "      <td>NaN</td>\n",
       "    </tr>\n",
       "  </tbody>\n",
       "</table>\n",
       "</div>"
      ],
      "text/plain": [
       "              0          1           2                 3             4   \\\n",
       "0         shrimp    almonds     avocado    vegetables mix  green grapes   \n",
       "1        burgers  meatballs        eggs               NaN           NaN   \n",
       "2        chutney        NaN         NaN               NaN           NaN   \n",
       "3         turkey    avocado         NaN               NaN           NaN   \n",
       "4  mineral water       milk  energy bar  whole wheat rice     green tea   \n",
       "\n",
       "                 5     6               7             8             9   \\\n",
       "0  whole weat flour  yams  cottage cheese  energy drink  tomato juice   \n",
       "1               NaN   NaN             NaN           NaN           NaN   \n",
       "2               NaN   NaN             NaN           NaN           NaN   \n",
       "3               NaN   NaN             NaN           NaN           NaN   \n",
       "4               NaN   NaN             NaN           NaN           NaN   \n",
       "\n",
       "               10         11     12     13             14      15  \\\n",
       "0  low fat yogurt  green tea  honey  salad  mineral water  salmon   \n",
       "1             NaN        NaN    NaN    NaN            NaN     NaN   \n",
       "2             NaN        NaN    NaN    NaN            NaN     NaN   \n",
       "3             NaN        NaN    NaN    NaN            NaN     NaN   \n",
       "4             NaN        NaN    NaN    NaN            NaN     NaN   \n",
       "\n",
       "                  16               17       18         19  \n",
       "0  antioxydant juice  frozen smoothie  spinach  olive oil  \n",
       "1                NaN              NaN      NaN        NaN  \n",
       "2                NaN              NaN      NaN        NaN  \n",
       "3                NaN              NaN      NaN        NaN  \n",
       "4                NaN              NaN      NaN        NaN  "
      ]
     },
     "execution_count": 8,
     "metadata": {},
     "output_type": "execute_result"
    }
   ],
   "source": [
    "data.head()"
   ]
  },
  {
   "cell_type": "markdown",
   "id": "7683ddb9",
   "metadata": {},
   "source": [
    "## 4. Data Description"
   ]
  },
  {
   "cell_type": "code",
   "execution_count": 9,
   "id": "570325c4",
   "metadata": {},
   "outputs": [
    {
     "data": {
      "text/plain": [
       "(7501, 20)"
      ]
     },
     "execution_count": 9,
     "metadata": {},
     "output_type": "execute_result"
    }
   ],
   "source": [
    "data.shape"
   ]
  },
  {
   "cell_type": "code",
   "execution_count": 23,
   "id": "fa04b53d",
   "metadata": {},
   "outputs": [
    {
     "data": {
      "text/html": [
       "<div>\n",
       "<style scoped>\n",
       "    .dataframe tbody tr th:only-of-type {\n",
       "        vertical-align: middle;\n",
       "    }\n",
       "\n",
       "    .dataframe tbody tr th {\n",
       "        vertical-align: top;\n",
       "    }\n",
       "\n",
       "    .dataframe thead th {\n",
       "        text-align: right;\n",
       "    }\n",
       "</style>\n",
       "<table border=\"1\" class=\"dataframe\">\n",
       "  <thead>\n",
       "    <tr style=\"text-align: right;\">\n",
       "      <th></th>\n",
       "      <th>0</th>\n",
       "      <th>1</th>\n",
       "      <th>2</th>\n",
       "      <th>3</th>\n",
       "      <th>4</th>\n",
       "      <th>5</th>\n",
       "      <th>6</th>\n",
       "      <th>7</th>\n",
       "      <th>8</th>\n",
       "      <th>9</th>\n",
       "      <th>10</th>\n",
       "      <th>11</th>\n",
       "      <th>12</th>\n",
       "      <th>13</th>\n",
       "      <th>14</th>\n",
       "      <th>15</th>\n",
       "      <th>16</th>\n",
       "      <th>17</th>\n",
       "      <th>18</th>\n",
       "      <th>19</th>\n",
       "    </tr>\n",
       "  </thead>\n",
       "  <tbody>\n",
       "    <tr>\n",
       "      <th>count</th>\n",
       "      <td>7501</td>\n",
       "      <td>5747</td>\n",
       "      <td>4389</td>\n",
       "      <td>3345</td>\n",
       "      <td>2529</td>\n",
       "      <td>1864</td>\n",
       "      <td>1369</td>\n",
       "      <td>981</td>\n",
       "      <td>654</td>\n",
       "      <td>395</td>\n",
       "      <td>256</td>\n",
       "      <td>154</td>\n",
       "      <td>87</td>\n",
       "      <td>47</td>\n",
       "      <td>25</td>\n",
       "      <td>8</td>\n",
       "      <td>4</td>\n",
       "      <td>4</td>\n",
       "      <td>3</td>\n",
       "      <td>1</td>\n",
       "    </tr>\n",
       "    <tr>\n",
       "      <th>unique</th>\n",
       "      <td>115</td>\n",
       "      <td>117</td>\n",
       "      <td>115</td>\n",
       "      <td>114</td>\n",
       "      <td>110</td>\n",
       "      <td>106</td>\n",
       "      <td>102</td>\n",
       "      <td>98</td>\n",
       "      <td>88</td>\n",
       "      <td>80</td>\n",
       "      <td>66</td>\n",
       "      <td>50</td>\n",
       "      <td>43</td>\n",
       "      <td>28</td>\n",
       "      <td>19</td>\n",
       "      <td>8</td>\n",
       "      <td>3</td>\n",
       "      <td>3</td>\n",
       "      <td>3</td>\n",
       "      <td>1</td>\n",
       "    </tr>\n",
       "    <tr>\n",
       "      <th>top</th>\n",
       "      <td>mineral water</td>\n",
       "      <td>mineral water</td>\n",
       "      <td>mineral water</td>\n",
       "      <td>mineral water</td>\n",
       "      <td>green tea</td>\n",
       "      <td>french fries</td>\n",
       "      <td>green tea</td>\n",
       "      <td>green tea</td>\n",
       "      <td>green tea</td>\n",
       "      <td>green tea</td>\n",
       "      <td>low fat yogurt</td>\n",
       "      <td>green tea</td>\n",
       "      <td>green tea</td>\n",
       "      <td>green tea</td>\n",
       "      <td>magazines</td>\n",
       "      <td>cake</td>\n",
       "      <td>frozen smoothie</td>\n",
       "      <td>protein bar</td>\n",
       "      <td>mayonnaise</td>\n",
       "      <td>olive oil</td>\n",
       "    </tr>\n",
       "    <tr>\n",
       "      <th>freq</th>\n",
       "      <td>577</td>\n",
       "      <td>484</td>\n",
       "      <td>375</td>\n",
       "      <td>201</td>\n",
       "      <td>153</td>\n",
       "      <td>107</td>\n",
       "      <td>96</td>\n",
       "      <td>67</td>\n",
       "      <td>57</td>\n",
       "      <td>31</td>\n",
       "      <td>22</td>\n",
       "      <td>15</td>\n",
       "      <td>8</td>\n",
       "      <td>4</td>\n",
       "      <td>3</td>\n",
       "      <td>1</td>\n",
       "      <td>2</td>\n",
       "      <td>2</td>\n",
       "      <td>1</td>\n",
       "      <td>1</td>\n",
       "    </tr>\n",
       "  </tbody>\n",
       "</table>\n",
       "</div>"
      ],
      "text/plain": [
       "                   0              1              2              3          4   \\\n",
       "count            7501           5747           4389           3345       2529   \n",
       "unique            115            117            115            114        110   \n",
       "top     mineral water  mineral water  mineral water  mineral water  green tea   \n",
       "freq              577            484            375            201        153   \n",
       "\n",
       "                  5          6          7          8          9   \\\n",
       "count           1864       1369        981        654        395   \n",
       "unique           106        102         98         88         80   \n",
       "top     french fries  green tea  green tea  green tea  green tea   \n",
       "freq             107         96         67         57         31   \n",
       "\n",
       "                    10         11         12         13         14    15  \\\n",
       "count              256        154         87         47         25     8   \n",
       "unique              66         50         43         28         19     8   \n",
       "top     low fat yogurt  green tea  green tea  green tea  magazines  cake   \n",
       "freq                22         15          8          4          3     1   \n",
       "\n",
       "                     16           17          18         19  \n",
       "count                 4            4           3          1  \n",
       "unique                3            3           3          1  \n",
       "top     frozen smoothie  protein bar  mayonnaise  olive oil  \n",
       "freq                  2            2           1          1  "
      ]
     },
     "execution_count": 23,
     "metadata": {},
     "output_type": "execute_result"
    }
   ],
   "source": [
    "data.describe()"
   ]
  },
  {
   "cell_type": "markdown",
   "id": "0819fe90",
   "metadata": {},
   "source": [
    "## 5. Data Visualization"
   ]
  },
  {
   "cell_type": "code",
   "execution_count": 37,
   "id": "759dddf1",
   "metadata": {},
   "outputs": [],
   "source": [
    "# 1. Gather All Items of Each Transactions into Numpy Array\n",
    "transaction = []\n",
    "for i in range(0, data.shape[0]):\n",
    "    for j in range(0, data.shape[1]):\n",
    "        transaction.append(data.values[i,j])\n",
    "\n",
    "transaction = np.array(transaction)"
   ]
  },
  {
   "cell_type": "code",
   "execution_count": 38,
   "id": "a86f50da",
   "metadata": {},
   "outputs": [],
   "source": [
    "# 2. Transform Them a Pandas DataFrame\n",
    "df = pd.DataFrame(transaction, columns=[\"items\"]) \n",
    "df[\"incident_count\"] = 1 # Put 1 to Each Item For Making Countable Table, to be able to perform Group By"
   ]
  },
  {
   "cell_type": "code",
   "execution_count": 39,
   "id": "0077ddea",
   "metadata": {},
   "outputs": [],
   "source": [
    "# 3. Delete NaN Items from Dataset\n",
    "indexNames = df[df['items'] == \"nan\" ].index\n",
    "df.drop(indexNames , inplace=True)"
   ]
  },
  {
   "cell_type": "code",
   "execution_count": 40,
   "id": "17a239a7",
   "metadata": {},
   "outputs": [],
   "source": [
    "# 4. Final Step: Make a New Appropriate Pandas DataFrame for Visualizations  \n",
    "df_table = df.groupby(\"items\").sum().sort_values(\"incident_count\", ascending=False).reset_index()"
   ]
  },
  {
   "cell_type": "code",
   "execution_count": 41,
   "id": "70bf78ef",
   "metadata": {},
   "outputs": [
    {
     "data": {
      "text/html": [
       "<style  type=\"text/css\" >\n",
       "#T_9865f_row0_col1{\n",
       "            background-color:  #08306b;\n",
       "            color:  #f1f1f1;\n",
       "        }#T_9865f_row1_col1{\n",
       "            background-color:  #4d99ca;\n",
       "            color:  #000000;\n",
       "        }#T_9865f_row2_col1{\n",
       "            background-color:  #5aa2cf;\n",
       "            color:  #000000;\n",
       "        }#T_9865f_row3_col1{\n",
       "            background-color:  #61a7d2;\n",
       "            color:  #000000;\n",
       "        }#T_9865f_row4_col1{\n",
       "            background-color:  #72b2d8;\n",
       "            color:  #000000;\n",
       "        }#T_9865f_row5_col1{\n",
       "            background-color:  #c3daee;\n",
       "            color:  #000000;\n",
       "        }#T_9865f_row6_col1{\n",
       "            background-color:  #c8dcf0;\n",
       "            color:  #000000;\n",
       "        }#T_9865f_row7_col1{\n",
       "            background-color:  #f3f8fe;\n",
       "            color:  #000000;\n",
       "        }#T_9865f_row8_col1,#T_9865f_row9_col1{\n",
       "            background-color:  #f7fbff;\n",
       "            color:  #000000;\n",
       "        }</style><table id=\"T_9865f_\" ><thead>    <tr>        <th class=\"blank level0\" ></th>        <th class=\"col_heading level0 col0\" >items</th>        <th class=\"col_heading level0 col1\" >incident_count</th>    </tr></thead><tbody>\n",
       "                <tr>\n",
       "                        <th id=\"T_9865f_level0_row0\" class=\"row_heading level0 row0\" >0</th>\n",
       "                        <td id=\"T_9865f_row0_col0\" class=\"data row0 col0\" >mineral water</td>\n",
       "                        <td id=\"T_9865f_row0_col1\" class=\"data row0 col1\" >1788</td>\n",
       "            </tr>\n",
       "            <tr>\n",
       "                        <th id=\"T_9865f_level0_row1\" class=\"row_heading level0 row1\" >1</th>\n",
       "                        <td id=\"T_9865f_row1_col0\" class=\"data row1 col0\" >eggs</td>\n",
       "                        <td id=\"T_9865f_row1_col1\" class=\"data row1 col1\" >1348</td>\n",
       "            </tr>\n",
       "            <tr>\n",
       "                        <th id=\"T_9865f_level0_row2\" class=\"row_heading level0 row2\" >2</th>\n",
       "                        <td id=\"T_9865f_row2_col0\" class=\"data row2 col0\" >spaghetti</td>\n",
       "                        <td id=\"T_9865f_row2_col1\" class=\"data row2 col1\" >1306</td>\n",
       "            </tr>\n",
       "            <tr>\n",
       "                        <th id=\"T_9865f_level0_row3\" class=\"row_heading level0 row3\" >3</th>\n",
       "                        <td id=\"T_9865f_row3_col0\" class=\"data row3 col0\" >french fries</td>\n",
       "                        <td id=\"T_9865f_row3_col1\" class=\"data row3 col1\" >1282</td>\n",
       "            </tr>\n",
       "            <tr>\n",
       "                        <th id=\"T_9865f_level0_row4\" class=\"row_heading level0 row4\" >4</th>\n",
       "                        <td id=\"T_9865f_row4_col0\" class=\"data row4 col0\" >chocolate</td>\n",
       "                        <td id=\"T_9865f_row4_col1\" class=\"data row4 col1\" >1230</td>\n",
       "            </tr>\n",
       "            <tr>\n",
       "                        <th id=\"T_9865f_level0_row5\" class=\"row_heading level0 row5\" >5</th>\n",
       "                        <td id=\"T_9865f_row5_col0\" class=\"data row5 col0\" >green tea</td>\n",
       "                        <td id=\"T_9865f_row5_col1\" class=\"data row5 col1\" >991</td>\n",
       "            </tr>\n",
       "            <tr>\n",
       "                        <th id=\"T_9865f_level0_row6\" class=\"row_heading level0 row6\" >6</th>\n",
       "                        <td id=\"T_9865f_row6_col0\" class=\"data row6 col0\" >milk</td>\n",
       "                        <td id=\"T_9865f_row6_col1\" class=\"data row6 col1\" >972</td>\n",
       "            </tr>\n",
       "            <tr>\n",
       "                        <th id=\"T_9865f_level0_row7\" class=\"row_heading level0 row7\" >7</th>\n",
       "                        <td id=\"T_9865f_row7_col0\" class=\"data row7 col0\" >ground beef</td>\n",
       "                        <td id=\"T_9865f_row7_col1\" class=\"data row7 col1\" >737</td>\n",
       "            </tr>\n",
       "            <tr>\n",
       "                        <th id=\"T_9865f_level0_row8\" class=\"row_heading level0 row8\" >8</th>\n",
       "                        <td id=\"T_9865f_row8_col0\" class=\"data row8 col0\" >frozen vegetables</td>\n",
       "                        <td id=\"T_9865f_row8_col1\" class=\"data row8 col1\" >715</td>\n",
       "            </tr>\n",
       "            <tr>\n",
       "                        <th id=\"T_9865f_level0_row9\" class=\"row_heading level0 row9\" >9</th>\n",
       "                        <td id=\"T_9865f_row9_col0\" class=\"data row9 col0\" >pancakes</td>\n",
       "                        <td id=\"T_9865f_row9_col1\" class=\"data row9 col1\" >713</td>\n",
       "            </tr>\n",
       "    </tbody></table>"
      ],
      "text/plain": [
       "<pandas.io.formats.style.Styler at 0x194729bfbb0>"
      ]
     },
     "execution_count": 41,
     "metadata": {},
     "output_type": "execute_result"
    }
   ],
   "source": [
    "# 5. Initial Visualizations\n",
    "df_table.head(10).style.background_gradient(cmap='Blues')"
   ]
  },
  {
   "cell_type": "code",
   "execution_count": 42,
   "id": "511996ed",
   "metadata": {},
   "outputs": [
    {
     "data": {
      "application/vnd.plotly.v1+json": {
       "config": {
        "plotlyServerURL": "https://plot.ly"
       },
       "data": [
        {
         "branchvalues": "total",
         "customdata": [
          [
           "burgers",
           654
          ],
          [
           "cake",
           608
          ],
          [
           "champagne",
           351
          ],
          [
           "chicken",
           450
          ],
          [
           "chocolate",
           1230
          ],
          [
           "cookies",
           603
          ],
          [
           "cooking oil",
           383
          ],
          [
           "eggs",
           1348
          ],
          [
           "escalope",
           595
          ],
          [
           "french fries",
           1282
          ],
          [
           "fresh bread",
           323
          ],
          [
           "frozen smoothie",
           475
          ],
          [
           "frozen vegetables",
           715
          ],
          [
           "grated cheese",
           393
          ],
          [
           "green tea",
           991
          ],
          [
           "ground beef",
           737
          ],
          [
           "herb & pepper",
           371
          ],
          [
           "honey",
           356
          ],
          [
           "low fat yogurt",
           574
          ],
          [
           "milk",
           972
          ],
          [
           "mineral water",
           1788
          ],
          [
           "olive oil",
           494
          ],
          [
           "pancakes",
           713
          ],
          [
           "salmon",
           319
          ],
          [
           "shrimp",
           536
          ],
          [
           "soup",
           379
          ],
          [
           "spaghetti",
           1306
          ],
          [
           "tomatoes",
           513
          ],
          [
           "turkey",
           469
          ],
          [
           "whole wheat rice",
           439
          ],
          [
           "(?)",
           878.0861688024746
          ]
         ],
         "domain": {
          "x": [
           0,
           1
          ],
          "y": [
           0,
           1
          ]
         },
         "hovertemplate": "labels=%{label}<br>incident_count=%{value}<br>parent=%{parent}<br>id=%{id}<br>items=%{customdata[0]}<br>color=%{color}<extra></extra>",
         "ids": [
          "all/burgers",
          "all/cake",
          "all/champagne",
          "all/chicken",
          "all/chocolate",
          "all/cookies",
          "all/cooking oil",
          "all/eggs",
          "all/escalope",
          "all/french fries",
          "all/fresh bread",
          "all/frozen smoothie",
          "all/frozen vegetables",
          "all/grated cheese",
          "all/green tea",
          "all/ground beef",
          "all/herb & pepper",
          "all/honey",
          "all/low fat yogurt",
          "all/milk",
          "all/mineral water",
          "all/olive oil",
          "all/pancakes",
          "all/salmon",
          "all/shrimp",
          "all/soup",
          "all/spaghetti",
          "all/tomatoes",
          "all/turkey",
          "all/whole wheat rice",
          "all"
         ],
         "labels": [
          "burgers",
          "cake",
          "champagne",
          "chicken",
          "chocolate",
          "cookies",
          "cooking oil",
          "eggs",
          "escalope",
          "french fries",
          "fresh bread",
          "frozen smoothie",
          "frozen vegetables",
          "grated cheese",
          "green tea",
          "ground beef",
          "herb & pepper",
          "honey",
          "low fat yogurt",
          "milk",
          "mineral water",
          "olive oil",
          "pancakes",
          "salmon",
          "shrimp",
          "soup",
          "spaghetti",
          "tomatoes",
          "turkey",
          "whole wheat rice",
          "all"
         ],
         "marker": {
          "coloraxis": "coloraxis",
          "colors": [
           654,
           608,
           351,
           450,
           1230,
           603,
           383,
           1348,
           595,
           1282,
           323,
           475,
           715,
           393,
           991,
           737,
           371,
           356,
           574,
           972,
           1788,
           494,
           713,
           319,
           536,
           379,
           1306,
           513,
           469,
           439,
           878.0861688024746
          ]
         },
         "name": "",
         "parents": [
          "all",
          "all",
          "all",
          "all",
          "all",
          "all",
          "all",
          "all",
          "all",
          "all",
          "all",
          "all",
          "all",
          "all",
          "all",
          "all",
          "all",
          "all",
          "all",
          "all",
          "all",
          "all",
          "all",
          "all",
          "all",
          "all",
          "all",
          "all",
          "all",
          "all",
          ""
         ],
         "type": "treemap",
         "values": [
          654,
          608,
          351,
          450,
          1230,
          603,
          383,
          1348,
          595,
          1282,
          323,
          475,
          715,
          393,
          991,
          737,
          371,
          356,
          574,
          972,
          1788,
          494,
          713,
          319,
          536,
          379,
          1306,
          513,
          469,
          439,
          20367
         ]
        }
       ],
       "layout": {
        "coloraxis": {
         "colorbar": {
          "title": {
           "text": "color"
          }
         },
         "colorscale": [
          [
           0,
           "rgb(247,251,255)"
          ],
          [
           0.125,
           "rgb(222,235,247)"
          ],
          [
           0.25,
           "rgb(198,219,239)"
          ],
          [
           0.375,
           "rgb(158,202,225)"
          ],
          [
           0.5,
           "rgb(107,174,214)"
          ],
          [
           0.625,
           "rgb(66,146,198)"
          ],
          [
           0.75,
           "rgb(33,113,181)"
          ],
          [
           0.875,
           "rgb(8,81,156)"
          ],
          [
           1,
           "rgb(8,48,107)"
          ]
         ]
        },
        "legend": {
         "tracegroupgap": 0
        },
        "margin": {
         "t": 60
        },
        "template": {
         "data": {
          "bar": [
           {
            "error_x": {
             "color": "#2a3f5f"
            },
            "error_y": {
             "color": "#2a3f5f"
            },
            "marker": {
             "line": {
              "color": "#E5ECF6",
              "width": 0.5
             },
             "pattern": {
              "fillmode": "overlay",
              "size": 10,
              "solidity": 0.2
             }
            },
            "type": "bar"
           }
          ],
          "barpolar": [
           {
            "marker": {
             "line": {
              "color": "#E5ECF6",
              "width": 0.5
             },
             "pattern": {
              "fillmode": "overlay",
              "size": 10,
              "solidity": 0.2
             }
            },
            "type": "barpolar"
           }
          ],
          "carpet": [
           {
            "aaxis": {
             "endlinecolor": "#2a3f5f",
             "gridcolor": "white",
             "linecolor": "white",
             "minorgridcolor": "white",
             "startlinecolor": "#2a3f5f"
            },
            "baxis": {
             "endlinecolor": "#2a3f5f",
             "gridcolor": "white",
             "linecolor": "white",
             "minorgridcolor": "white",
             "startlinecolor": "#2a3f5f"
            },
            "type": "carpet"
           }
          ],
          "choropleth": [
           {
            "colorbar": {
             "outlinewidth": 0,
             "ticks": ""
            },
            "type": "choropleth"
           }
          ],
          "contour": [
           {
            "colorbar": {
             "outlinewidth": 0,
             "ticks": ""
            },
            "colorscale": [
             [
              0,
              "#0d0887"
             ],
             [
              0.1111111111111111,
              "#46039f"
             ],
             [
              0.2222222222222222,
              "#7201a8"
             ],
             [
              0.3333333333333333,
              "#9c179e"
             ],
             [
              0.4444444444444444,
              "#bd3786"
             ],
             [
              0.5555555555555556,
              "#d8576b"
             ],
             [
              0.6666666666666666,
              "#ed7953"
             ],
             [
              0.7777777777777778,
              "#fb9f3a"
             ],
             [
              0.8888888888888888,
              "#fdca26"
             ],
             [
              1,
              "#f0f921"
             ]
            ],
            "type": "contour"
           }
          ],
          "contourcarpet": [
           {
            "colorbar": {
             "outlinewidth": 0,
             "ticks": ""
            },
            "type": "contourcarpet"
           }
          ],
          "heatmap": [
           {
            "colorbar": {
             "outlinewidth": 0,
             "ticks": ""
            },
            "colorscale": [
             [
              0,
              "#0d0887"
             ],
             [
              0.1111111111111111,
              "#46039f"
             ],
             [
              0.2222222222222222,
              "#7201a8"
             ],
             [
              0.3333333333333333,
              "#9c179e"
             ],
             [
              0.4444444444444444,
              "#bd3786"
             ],
             [
              0.5555555555555556,
              "#d8576b"
             ],
             [
              0.6666666666666666,
              "#ed7953"
             ],
             [
              0.7777777777777778,
              "#fb9f3a"
             ],
             [
              0.8888888888888888,
              "#fdca26"
             ],
             [
              1,
              "#f0f921"
             ]
            ],
            "type": "heatmap"
           }
          ],
          "heatmapgl": [
           {
            "colorbar": {
             "outlinewidth": 0,
             "ticks": ""
            },
            "colorscale": [
             [
              0,
              "#0d0887"
             ],
             [
              0.1111111111111111,
              "#46039f"
             ],
             [
              0.2222222222222222,
              "#7201a8"
             ],
             [
              0.3333333333333333,
              "#9c179e"
             ],
             [
              0.4444444444444444,
              "#bd3786"
             ],
             [
              0.5555555555555556,
              "#d8576b"
             ],
             [
              0.6666666666666666,
              "#ed7953"
             ],
             [
              0.7777777777777778,
              "#fb9f3a"
             ],
             [
              0.8888888888888888,
              "#fdca26"
             ],
             [
              1,
              "#f0f921"
             ]
            ],
            "type": "heatmapgl"
           }
          ],
          "histogram": [
           {
            "marker": {
             "pattern": {
              "fillmode": "overlay",
              "size": 10,
              "solidity": 0.2
             }
            },
            "type": "histogram"
           }
          ],
          "histogram2d": [
           {
            "colorbar": {
             "outlinewidth": 0,
             "ticks": ""
            },
            "colorscale": [
             [
              0,
              "#0d0887"
             ],
             [
              0.1111111111111111,
              "#46039f"
             ],
             [
              0.2222222222222222,
              "#7201a8"
             ],
             [
              0.3333333333333333,
              "#9c179e"
             ],
             [
              0.4444444444444444,
              "#bd3786"
             ],
             [
              0.5555555555555556,
              "#d8576b"
             ],
             [
              0.6666666666666666,
              "#ed7953"
             ],
             [
              0.7777777777777778,
              "#fb9f3a"
             ],
             [
              0.8888888888888888,
              "#fdca26"
             ],
             [
              1,
              "#f0f921"
             ]
            ],
            "type": "histogram2d"
           }
          ],
          "histogram2dcontour": [
           {
            "colorbar": {
             "outlinewidth": 0,
             "ticks": ""
            },
            "colorscale": [
             [
              0,
              "#0d0887"
             ],
             [
              0.1111111111111111,
              "#46039f"
             ],
             [
              0.2222222222222222,
              "#7201a8"
             ],
             [
              0.3333333333333333,
              "#9c179e"
             ],
             [
              0.4444444444444444,
              "#bd3786"
             ],
             [
              0.5555555555555556,
              "#d8576b"
             ],
             [
              0.6666666666666666,
              "#ed7953"
             ],
             [
              0.7777777777777778,
              "#fb9f3a"
             ],
             [
              0.8888888888888888,
              "#fdca26"
             ],
             [
              1,
              "#f0f921"
             ]
            ],
            "type": "histogram2dcontour"
           }
          ],
          "mesh3d": [
           {
            "colorbar": {
             "outlinewidth": 0,
             "ticks": ""
            },
            "type": "mesh3d"
           }
          ],
          "parcoords": [
           {
            "line": {
             "colorbar": {
              "outlinewidth": 0,
              "ticks": ""
             }
            },
            "type": "parcoords"
           }
          ],
          "pie": [
           {
            "automargin": true,
            "type": "pie"
           }
          ],
          "scatter": [
           {
            "marker": {
             "colorbar": {
              "outlinewidth": 0,
              "ticks": ""
             }
            },
            "type": "scatter"
           }
          ],
          "scatter3d": [
           {
            "line": {
             "colorbar": {
              "outlinewidth": 0,
              "ticks": ""
             }
            },
            "marker": {
             "colorbar": {
              "outlinewidth": 0,
              "ticks": ""
             }
            },
            "type": "scatter3d"
           }
          ],
          "scattercarpet": [
           {
            "marker": {
             "colorbar": {
              "outlinewidth": 0,
              "ticks": ""
             }
            },
            "type": "scattercarpet"
           }
          ],
          "scattergeo": [
           {
            "marker": {
             "colorbar": {
              "outlinewidth": 0,
              "ticks": ""
             }
            },
            "type": "scattergeo"
           }
          ],
          "scattergl": [
           {
            "marker": {
             "colorbar": {
              "outlinewidth": 0,
              "ticks": ""
             }
            },
            "type": "scattergl"
           }
          ],
          "scattermapbox": [
           {
            "marker": {
             "colorbar": {
              "outlinewidth": 0,
              "ticks": ""
             }
            },
            "type": "scattermapbox"
           }
          ],
          "scatterpolar": [
           {
            "marker": {
             "colorbar": {
              "outlinewidth": 0,
              "ticks": ""
             }
            },
            "type": "scatterpolar"
           }
          ],
          "scatterpolargl": [
           {
            "marker": {
             "colorbar": {
              "outlinewidth": 0,
              "ticks": ""
             }
            },
            "type": "scatterpolargl"
           }
          ],
          "scatterternary": [
           {
            "marker": {
             "colorbar": {
              "outlinewidth": 0,
              "ticks": ""
             }
            },
            "type": "scatterternary"
           }
          ],
          "surface": [
           {
            "colorbar": {
             "outlinewidth": 0,
             "ticks": ""
            },
            "colorscale": [
             [
              0,
              "#0d0887"
             ],
             [
              0.1111111111111111,
              "#46039f"
             ],
             [
              0.2222222222222222,
              "#7201a8"
             ],
             [
              0.3333333333333333,
              "#9c179e"
             ],
             [
              0.4444444444444444,
              "#bd3786"
             ],
             [
              0.5555555555555556,
              "#d8576b"
             ],
             [
              0.6666666666666666,
              "#ed7953"
             ],
             [
              0.7777777777777778,
              "#fb9f3a"
             ],
             [
              0.8888888888888888,
              "#fdca26"
             ],
             [
              1,
              "#f0f921"
             ]
            ],
            "type": "surface"
           }
          ],
          "table": [
           {
            "cells": {
             "fill": {
              "color": "#EBF0F8"
             },
             "line": {
              "color": "white"
             }
            },
            "header": {
             "fill": {
              "color": "#C8D4E3"
             },
             "line": {
              "color": "white"
             }
            },
            "type": "table"
           }
          ]
         },
         "layout": {
          "annotationdefaults": {
           "arrowcolor": "#2a3f5f",
           "arrowhead": 0,
           "arrowwidth": 1
          },
          "autotypenumbers": "strict",
          "coloraxis": {
           "colorbar": {
            "outlinewidth": 0,
            "ticks": ""
           }
          },
          "colorscale": {
           "diverging": [
            [
             0,
             "#8e0152"
            ],
            [
             0.1,
             "#c51b7d"
            ],
            [
             0.2,
             "#de77ae"
            ],
            [
             0.3,
             "#f1b6da"
            ],
            [
             0.4,
             "#fde0ef"
            ],
            [
             0.5,
             "#f7f7f7"
            ],
            [
             0.6,
             "#e6f5d0"
            ],
            [
             0.7,
             "#b8e186"
            ],
            [
             0.8,
             "#7fbc41"
            ],
            [
             0.9,
             "#4d9221"
            ],
            [
             1,
             "#276419"
            ]
           ],
           "sequential": [
            [
             0,
             "#0d0887"
            ],
            [
             0.1111111111111111,
             "#46039f"
            ],
            [
             0.2222222222222222,
             "#7201a8"
            ],
            [
             0.3333333333333333,
             "#9c179e"
            ],
            [
             0.4444444444444444,
             "#bd3786"
            ],
            [
             0.5555555555555556,
             "#d8576b"
            ],
            [
             0.6666666666666666,
             "#ed7953"
            ],
            [
             0.7777777777777778,
             "#fb9f3a"
            ],
            [
             0.8888888888888888,
             "#fdca26"
            ],
            [
             1,
             "#f0f921"
            ]
           ],
           "sequentialminus": [
            [
             0,
             "#0d0887"
            ],
            [
             0.1111111111111111,
             "#46039f"
            ],
            [
             0.2222222222222222,
             "#7201a8"
            ],
            [
             0.3333333333333333,
             "#9c179e"
            ],
            [
             0.4444444444444444,
             "#bd3786"
            ],
            [
             0.5555555555555556,
             "#d8576b"
            ],
            [
             0.6666666666666666,
             "#ed7953"
            ],
            [
             0.7777777777777778,
             "#fb9f3a"
            ],
            [
             0.8888888888888888,
             "#fdca26"
            ],
            [
             1,
             "#f0f921"
            ]
           ]
          },
          "colorway": [
           "#636efa",
           "#EF553B",
           "#00cc96",
           "#ab63fa",
           "#FFA15A",
           "#19d3f3",
           "#FF6692",
           "#B6E880",
           "#FF97FF",
           "#FECB52"
          ],
          "font": {
           "color": "#2a3f5f"
          },
          "geo": {
           "bgcolor": "white",
           "lakecolor": "white",
           "landcolor": "#E5ECF6",
           "showlakes": true,
           "showland": true,
           "subunitcolor": "white"
          },
          "hoverlabel": {
           "align": "left"
          },
          "hovermode": "closest",
          "mapbox": {
           "style": "light"
          },
          "paper_bgcolor": "white",
          "plot_bgcolor": "#E5ECF6",
          "polar": {
           "angularaxis": {
            "gridcolor": "white",
            "linecolor": "white",
            "ticks": ""
           },
           "bgcolor": "#E5ECF6",
           "radialaxis": {
            "gridcolor": "white",
            "linecolor": "white",
            "ticks": ""
           }
          },
          "scene": {
           "xaxis": {
            "backgroundcolor": "#E5ECF6",
            "gridcolor": "white",
            "gridwidth": 2,
            "linecolor": "white",
            "showbackground": true,
            "ticks": "",
            "zerolinecolor": "white"
           },
           "yaxis": {
            "backgroundcolor": "#E5ECF6",
            "gridcolor": "white",
            "gridwidth": 2,
            "linecolor": "white",
            "showbackground": true,
            "ticks": "",
            "zerolinecolor": "white"
           },
           "zaxis": {
            "backgroundcolor": "#E5ECF6",
            "gridcolor": "white",
            "gridwidth": 2,
            "linecolor": "white",
            "showbackground": true,
            "ticks": "",
            "zerolinecolor": "white"
           }
          },
          "shapedefaults": {
           "line": {
            "color": "#2a3f5f"
           }
          },
          "ternary": {
           "aaxis": {
            "gridcolor": "white",
            "linecolor": "white",
            "ticks": ""
           },
           "baxis": {
            "gridcolor": "white",
            "linecolor": "white",
            "ticks": ""
           },
           "bgcolor": "#E5ECF6",
           "caxis": {
            "gridcolor": "white",
            "linecolor": "white",
            "ticks": ""
           }
          },
          "title": {
           "x": 0.05
          },
          "xaxis": {
           "automargin": true,
           "gridcolor": "white",
           "linecolor": "white",
           "ticks": "",
           "title": {
            "standoff": 15
           },
           "zerolinecolor": "white",
           "zerolinewidth": 2
          },
          "yaxis": {
           "automargin": true,
           "gridcolor": "white",
           "linecolor": "white",
           "ticks": "",
           "title": {
            "standoff": 15
           },
           "zerolinecolor": "white",
           "zerolinewidth": 2
          }
         }
        }
       }
      },
      "text/html": [
       "<div>                            <div id=\"b720ba66-8ab9-4db8-b4e4-8d4b27b37b01\" class=\"plotly-graph-div\" style=\"height:525px; width:100%;\"></div>            <script type=\"text/javascript\">                require([\"plotly\"], function(Plotly) {                    window.PLOTLYENV=window.PLOTLYENV || {};                                    if (document.getElementById(\"b720ba66-8ab9-4db8-b4e4-8d4b27b37b01\")) {                    Plotly.newPlot(                        \"b720ba66-8ab9-4db8-b4e4-8d4b27b37b01\",                        [{\"branchvalues\":\"total\",\"customdata\":[[\"burgers\",654.0],[\"cake\",608.0],[\"champagne\",351.0],[\"chicken\",450.0],[\"chocolate\",1230.0],[\"cookies\",603.0],[\"cooking oil\",383.0],[\"eggs\",1348.0],[\"escalope\",595.0],[\"french fries\",1282.0],[\"fresh bread\",323.0],[\"frozen smoothie\",475.0],[\"frozen vegetables\",715.0],[\"grated cheese\",393.0],[\"green tea\",991.0],[\"ground beef\",737.0],[\"herb & pepper\",371.0],[\"honey\",356.0],[\"low fat yogurt\",574.0],[\"milk\",972.0],[\"mineral water\",1788.0],[\"olive oil\",494.0],[\"pancakes\",713.0],[\"salmon\",319.0],[\"shrimp\",536.0],[\"soup\",379.0],[\"spaghetti\",1306.0],[\"tomatoes\",513.0],[\"turkey\",469.0],[\"whole wheat rice\",439.0],[\"(?)\",878.0861688024746]],\"domain\":{\"x\":[0.0,1.0],\"y\":[0.0,1.0]},\"hovertemplate\":\"labels=%{label}<br>incident_count=%{value}<br>parent=%{parent}<br>id=%{id}<br>items=%{customdata[0]}<br>color=%{color}<extra></extra>\",\"ids\":[\"all/burgers\",\"all/cake\",\"all/champagne\",\"all/chicken\",\"all/chocolate\",\"all/cookies\",\"all/cooking oil\",\"all/eggs\",\"all/escalope\",\"all/french fries\",\"all/fresh bread\",\"all/frozen smoothie\",\"all/frozen vegetables\",\"all/grated cheese\",\"all/green tea\",\"all/ground beef\",\"all/herb & pepper\",\"all/honey\",\"all/low fat yogurt\",\"all/milk\",\"all/mineral water\",\"all/olive oil\",\"all/pancakes\",\"all/salmon\",\"all/shrimp\",\"all/soup\",\"all/spaghetti\",\"all/tomatoes\",\"all/turkey\",\"all/whole wheat rice\",\"all\"],\"labels\":[\"burgers\",\"cake\",\"champagne\",\"chicken\",\"chocolate\",\"cookies\",\"cooking oil\",\"eggs\",\"escalope\",\"french fries\",\"fresh bread\",\"frozen smoothie\",\"frozen vegetables\",\"grated cheese\",\"green tea\",\"ground beef\",\"herb & pepper\",\"honey\",\"low fat yogurt\",\"milk\",\"mineral water\",\"olive oil\",\"pancakes\",\"salmon\",\"shrimp\",\"soup\",\"spaghetti\",\"tomatoes\",\"turkey\",\"whole wheat rice\",\"all\"],\"marker\":{\"coloraxis\":\"coloraxis\",\"colors\":[654.0,608.0,351.0,450.0,1230.0,603.0,383.0,1348.0,595.0,1282.0,323.0,475.0,715.0,393.0,991.0,737.0,371.0,356.0,574.0,972.0,1788.0,494.0,713.0,319.0,536.0,379.0,1306.0,513.0,469.0,439.0,878.0861688024746]},\"name\":\"\",\"parents\":[\"all\",\"all\",\"all\",\"all\",\"all\",\"all\",\"all\",\"all\",\"all\",\"all\",\"all\",\"all\",\"all\",\"all\",\"all\",\"all\",\"all\",\"all\",\"all\",\"all\",\"all\",\"all\",\"all\",\"all\",\"all\",\"all\",\"all\",\"all\",\"all\",\"all\",\"\"],\"type\":\"treemap\",\"values\":[654,608,351,450,1230,603,383,1348,595,1282,323,475,715,393,991,737,371,356,574,972,1788,494,713,319,536,379,1306,513,469,439,20367]}],                        {\"coloraxis\":{\"colorbar\":{\"title\":{\"text\":\"color\"}},\"colorscale\":[[0.0,\"rgb(247,251,255)\"],[0.125,\"rgb(222,235,247)\"],[0.25,\"rgb(198,219,239)\"],[0.375,\"rgb(158,202,225)\"],[0.5,\"rgb(107,174,214)\"],[0.625,\"rgb(66,146,198)\"],[0.75,\"rgb(33,113,181)\"],[0.875,\"rgb(8,81,156)\"],[1.0,\"rgb(8,48,107)\"]]},\"legend\":{\"tracegroupgap\":0},\"margin\":{\"t\":60},\"template\":{\"data\":{\"bar\":[{\"error_x\":{\"color\":\"#2a3f5f\"},\"error_y\":{\"color\":\"#2a3f5f\"},\"marker\":{\"line\":{\"color\":\"#E5ECF6\",\"width\":0.5},\"pattern\":{\"fillmode\":\"overlay\",\"size\":10,\"solidity\":0.2}},\"type\":\"bar\"}],\"barpolar\":[{\"marker\":{\"line\":{\"color\":\"#E5ECF6\",\"width\":0.5},\"pattern\":{\"fillmode\":\"overlay\",\"size\":10,\"solidity\":0.2}},\"type\":\"barpolar\"}],\"carpet\":[{\"aaxis\":{\"endlinecolor\":\"#2a3f5f\",\"gridcolor\":\"white\",\"linecolor\":\"white\",\"minorgridcolor\":\"white\",\"startlinecolor\":\"#2a3f5f\"},\"baxis\":{\"endlinecolor\":\"#2a3f5f\",\"gridcolor\":\"white\",\"linecolor\":\"white\",\"minorgridcolor\":\"white\",\"startlinecolor\":\"#2a3f5f\"},\"type\":\"carpet\"}],\"choropleth\":[{\"colorbar\":{\"outlinewidth\":0,\"ticks\":\"\"},\"type\":\"choropleth\"}],\"contour\":[{\"colorbar\":{\"outlinewidth\":0,\"ticks\":\"\"},\"colorscale\":[[0.0,\"#0d0887\"],[0.1111111111111111,\"#46039f\"],[0.2222222222222222,\"#7201a8\"],[0.3333333333333333,\"#9c179e\"],[0.4444444444444444,\"#bd3786\"],[0.5555555555555556,\"#d8576b\"],[0.6666666666666666,\"#ed7953\"],[0.7777777777777778,\"#fb9f3a\"],[0.8888888888888888,\"#fdca26\"],[1.0,\"#f0f921\"]],\"type\":\"contour\"}],\"contourcarpet\":[{\"colorbar\":{\"outlinewidth\":0,\"ticks\":\"\"},\"type\":\"contourcarpet\"}],\"heatmap\":[{\"colorbar\":{\"outlinewidth\":0,\"ticks\":\"\"},\"colorscale\":[[0.0,\"#0d0887\"],[0.1111111111111111,\"#46039f\"],[0.2222222222222222,\"#7201a8\"],[0.3333333333333333,\"#9c179e\"],[0.4444444444444444,\"#bd3786\"],[0.5555555555555556,\"#d8576b\"],[0.6666666666666666,\"#ed7953\"],[0.7777777777777778,\"#fb9f3a\"],[0.8888888888888888,\"#fdca26\"],[1.0,\"#f0f921\"]],\"type\":\"heatmap\"}],\"heatmapgl\":[{\"colorbar\":{\"outlinewidth\":0,\"ticks\":\"\"},\"colorscale\":[[0.0,\"#0d0887\"],[0.1111111111111111,\"#46039f\"],[0.2222222222222222,\"#7201a8\"],[0.3333333333333333,\"#9c179e\"],[0.4444444444444444,\"#bd3786\"],[0.5555555555555556,\"#d8576b\"],[0.6666666666666666,\"#ed7953\"],[0.7777777777777778,\"#fb9f3a\"],[0.8888888888888888,\"#fdca26\"],[1.0,\"#f0f921\"]],\"type\":\"heatmapgl\"}],\"histogram\":[{\"marker\":{\"pattern\":{\"fillmode\":\"overlay\",\"size\":10,\"solidity\":0.2}},\"type\":\"histogram\"}],\"histogram2d\":[{\"colorbar\":{\"outlinewidth\":0,\"ticks\":\"\"},\"colorscale\":[[0.0,\"#0d0887\"],[0.1111111111111111,\"#46039f\"],[0.2222222222222222,\"#7201a8\"],[0.3333333333333333,\"#9c179e\"],[0.4444444444444444,\"#bd3786\"],[0.5555555555555556,\"#d8576b\"],[0.6666666666666666,\"#ed7953\"],[0.7777777777777778,\"#fb9f3a\"],[0.8888888888888888,\"#fdca26\"],[1.0,\"#f0f921\"]],\"type\":\"histogram2d\"}],\"histogram2dcontour\":[{\"colorbar\":{\"outlinewidth\":0,\"ticks\":\"\"},\"colorscale\":[[0.0,\"#0d0887\"],[0.1111111111111111,\"#46039f\"],[0.2222222222222222,\"#7201a8\"],[0.3333333333333333,\"#9c179e\"],[0.4444444444444444,\"#bd3786\"],[0.5555555555555556,\"#d8576b\"],[0.6666666666666666,\"#ed7953\"],[0.7777777777777778,\"#fb9f3a\"],[0.8888888888888888,\"#fdca26\"],[1.0,\"#f0f921\"]],\"type\":\"histogram2dcontour\"}],\"mesh3d\":[{\"colorbar\":{\"outlinewidth\":0,\"ticks\":\"\"},\"type\":\"mesh3d\"}],\"parcoords\":[{\"line\":{\"colorbar\":{\"outlinewidth\":0,\"ticks\":\"\"}},\"type\":\"parcoords\"}],\"pie\":[{\"automargin\":true,\"type\":\"pie\"}],\"scatter\":[{\"marker\":{\"colorbar\":{\"outlinewidth\":0,\"ticks\":\"\"}},\"type\":\"scatter\"}],\"scatter3d\":[{\"line\":{\"colorbar\":{\"outlinewidth\":0,\"ticks\":\"\"}},\"marker\":{\"colorbar\":{\"outlinewidth\":0,\"ticks\":\"\"}},\"type\":\"scatter3d\"}],\"scattercarpet\":[{\"marker\":{\"colorbar\":{\"outlinewidth\":0,\"ticks\":\"\"}},\"type\":\"scattercarpet\"}],\"scattergeo\":[{\"marker\":{\"colorbar\":{\"outlinewidth\":0,\"ticks\":\"\"}},\"type\":\"scattergeo\"}],\"scattergl\":[{\"marker\":{\"colorbar\":{\"outlinewidth\":0,\"ticks\":\"\"}},\"type\":\"scattergl\"}],\"scattermapbox\":[{\"marker\":{\"colorbar\":{\"outlinewidth\":0,\"ticks\":\"\"}},\"type\":\"scattermapbox\"}],\"scatterpolar\":[{\"marker\":{\"colorbar\":{\"outlinewidth\":0,\"ticks\":\"\"}},\"type\":\"scatterpolar\"}],\"scatterpolargl\":[{\"marker\":{\"colorbar\":{\"outlinewidth\":0,\"ticks\":\"\"}},\"type\":\"scatterpolargl\"}],\"scatterternary\":[{\"marker\":{\"colorbar\":{\"outlinewidth\":0,\"ticks\":\"\"}},\"type\":\"scatterternary\"}],\"surface\":[{\"colorbar\":{\"outlinewidth\":0,\"ticks\":\"\"},\"colorscale\":[[0.0,\"#0d0887\"],[0.1111111111111111,\"#46039f\"],[0.2222222222222222,\"#7201a8\"],[0.3333333333333333,\"#9c179e\"],[0.4444444444444444,\"#bd3786\"],[0.5555555555555556,\"#d8576b\"],[0.6666666666666666,\"#ed7953\"],[0.7777777777777778,\"#fb9f3a\"],[0.8888888888888888,\"#fdca26\"],[1.0,\"#f0f921\"]],\"type\":\"surface\"}],\"table\":[{\"cells\":{\"fill\":{\"color\":\"#EBF0F8\"},\"line\":{\"color\":\"white\"}},\"header\":{\"fill\":{\"color\":\"#C8D4E3\"},\"line\":{\"color\":\"white\"}},\"type\":\"table\"}]},\"layout\":{\"annotationdefaults\":{\"arrowcolor\":\"#2a3f5f\",\"arrowhead\":0,\"arrowwidth\":1},\"autotypenumbers\":\"strict\",\"coloraxis\":{\"colorbar\":{\"outlinewidth\":0,\"ticks\":\"\"}},\"colorscale\":{\"diverging\":[[0,\"#8e0152\"],[0.1,\"#c51b7d\"],[0.2,\"#de77ae\"],[0.3,\"#f1b6da\"],[0.4,\"#fde0ef\"],[0.5,\"#f7f7f7\"],[0.6,\"#e6f5d0\"],[0.7,\"#b8e186\"],[0.8,\"#7fbc41\"],[0.9,\"#4d9221\"],[1,\"#276419\"]],\"sequential\":[[0.0,\"#0d0887\"],[0.1111111111111111,\"#46039f\"],[0.2222222222222222,\"#7201a8\"],[0.3333333333333333,\"#9c179e\"],[0.4444444444444444,\"#bd3786\"],[0.5555555555555556,\"#d8576b\"],[0.6666666666666666,\"#ed7953\"],[0.7777777777777778,\"#fb9f3a\"],[0.8888888888888888,\"#fdca26\"],[1.0,\"#f0f921\"]],\"sequentialminus\":[[0.0,\"#0d0887\"],[0.1111111111111111,\"#46039f\"],[0.2222222222222222,\"#7201a8\"],[0.3333333333333333,\"#9c179e\"],[0.4444444444444444,\"#bd3786\"],[0.5555555555555556,\"#d8576b\"],[0.6666666666666666,\"#ed7953\"],[0.7777777777777778,\"#fb9f3a\"],[0.8888888888888888,\"#fdca26\"],[1.0,\"#f0f921\"]]},\"colorway\":[\"#636efa\",\"#EF553B\",\"#00cc96\",\"#ab63fa\",\"#FFA15A\",\"#19d3f3\",\"#FF6692\",\"#B6E880\",\"#FF97FF\",\"#FECB52\"],\"font\":{\"color\":\"#2a3f5f\"},\"geo\":{\"bgcolor\":\"white\",\"lakecolor\":\"white\",\"landcolor\":\"#E5ECF6\",\"showlakes\":true,\"showland\":true,\"subunitcolor\":\"white\"},\"hoverlabel\":{\"align\":\"left\"},\"hovermode\":\"closest\",\"mapbox\":{\"style\":\"light\"},\"paper_bgcolor\":\"white\",\"plot_bgcolor\":\"#E5ECF6\",\"polar\":{\"angularaxis\":{\"gridcolor\":\"white\",\"linecolor\":\"white\",\"ticks\":\"\"},\"bgcolor\":\"#E5ECF6\",\"radialaxis\":{\"gridcolor\":\"white\",\"linecolor\":\"white\",\"ticks\":\"\"}},\"scene\":{\"xaxis\":{\"backgroundcolor\":\"#E5ECF6\",\"gridcolor\":\"white\",\"gridwidth\":2,\"linecolor\":\"white\",\"showbackground\":true,\"ticks\":\"\",\"zerolinecolor\":\"white\"},\"yaxis\":{\"backgroundcolor\":\"#E5ECF6\",\"gridcolor\":\"white\",\"gridwidth\":2,\"linecolor\":\"white\",\"showbackground\":true,\"ticks\":\"\",\"zerolinecolor\":\"white\"},\"zaxis\":{\"backgroundcolor\":\"#E5ECF6\",\"gridcolor\":\"white\",\"gridwidth\":2,\"linecolor\":\"white\",\"showbackground\":true,\"ticks\":\"\",\"zerolinecolor\":\"white\"}},\"shapedefaults\":{\"line\":{\"color\":\"#2a3f5f\"}},\"ternary\":{\"aaxis\":{\"gridcolor\":\"white\",\"linecolor\":\"white\",\"ticks\":\"\"},\"baxis\":{\"gridcolor\":\"white\",\"linecolor\":\"white\",\"ticks\":\"\"},\"bgcolor\":\"#E5ECF6\",\"caxis\":{\"gridcolor\":\"white\",\"linecolor\":\"white\",\"ticks\":\"\"}},\"title\":{\"x\":0.05},\"xaxis\":{\"automargin\":true,\"gridcolor\":\"white\",\"linecolor\":\"white\",\"ticks\":\"\",\"title\":{\"standoff\":15},\"zerolinecolor\":\"white\",\"zerolinewidth\":2},\"yaxis\":{\"automargin\":true,\"gridcolor\":\"white\",\"linecolor\":\"white\",\"ticks\":\"\",\"title\":{\"standoff\":15},\"zerolinecolor\":\"white\",\"zerolinewidth\":2}}}},                        {\"responsive\": true}                    ).then(function(){\n",
       "                            \n",
       "var gd = document.getElementById('b720ba66-8ab9-4db8-b4e4-8d4b27b37b01');\n",
       "var x = new MutationObserver(function (mutations, observer) {{\n",
       "        var display = window.getComputedStyle(gd).display;\n",
       "        if (!display || display === 'none') {{\n",
       "            console.log([gd, 'removed!']);\n",
       "            Plotly.purge(gd);\n",
       "            observer.disconnect();\n",
       "        }}\n",
       "}});\n",
       "\n",
       "// Listen for the removal of the full notebook cells\n",
       "var notebookContainer = gd.closest('#notebook-container');\n",
       "if (notebookContainer) {{\n",
       "    x.observe(notebookContainer, {childList: true});\n",
       "}}\n",
       "\n",
       "// Listen for the clearing of the current output cell\n",
       "var outputEl = gd.closest('.output');\n",
       "if (outputEl) {{\n",
       "    x.observe(outputEl, {childList: true});\n",
       "}}\n",
       "\n",
       "                        })                };                });            </script>        </div>"
      ]
     },
     "metadata": {},
     "output_type": "display_data"
    }
   ],
   "source": [
    "df_table[\"all\"] = \"all\" # to have a same origin\n",
    "\n",
    "fig = px.treemap(df_table.head(30), path=['all', \"items\"], values='incident_count',\n",
    "                  color=df_table[\"incident_count\"].head(30), hover_data=['items'],\n",
    "                  color_continuous_scale='Blues',\n",
    "                  )\n",
    "fig.show()"
   ]
  },
  {
   "cell_type": "markdown",
   "id": "24e89920",
   "metadata": {},
   "source": [
    " Lets check whether the items have multiple records in a transaction or not\n",
    "- If the answer is \"Yes\", we need to handle them since they might mislead the apriori algorithm in further steps"
   ]
  },
  {
   "cell_type": "code",
   "execution_count": 43,
   "id": "bb24aaaa",
   "metadata": {},
   "outputs": [
    {
     "data": {
      "text/html": [
       "<div>\n",
       "<style scoped>\n",
       "    .dataframe tbody tr th:only-of-type {\n",
       "        vertical-align: middle;\n",
       "    }\n",
       "\n",
       "    .dataframe tbody tr th {\n",
       "        vertical-align: top;\n",
       "    }\n",
       "\n",
       "    .dataframe thead th {\n",
       "        text-align: right;\n",
       "    }\n",
       "</style>\n",
       "<table border=\"1\" class=\"dataframe\">\n",
       "  <thead>\n",
       "    <tr style=\"text-align: right;\">\n",
       "      <th></th>\n",
       "      <th>mineral water</th>\n",
       "      <th>eggs</th>\n",
       "      <th>spaghetti</th>\n",
       "      <th>french fries</th>\n",
       "      <th>chocolate</th>\n",
       "      <th>green tea</th>\n",
       "      <th>milk</th>\n",
       "      <th>ground beef</th>\n",
       "      <th>frozen vegetables</th>\n",
       "      <th>pancakes</th>\n",
       "      <th>...</th>\n",
       "      <th>chicken</th>\n",
       "      <th>whole wheat rice</th>\n",
       "      <th>grated cheese</th>\n",
       "      <th>cooking oil</th>\n",
       "      <th>soup</th>\n",
       "      <th>herb &amp; pepper</th>\n",
       "      <th>honey</th>\n",
       "      <th>champagne</th>\n",
       "      <th>fresh bread</th>\n",
       "      <th>salmon</th>\n",
       "    </tr>\n",
       "  </thead>\n",
       "  <tbody>\n",
       "    <tr>\n",
       "      <th>0</th>\n",
       "      <td>1</td>\n",
       "      <td>0</td>\n",
       "      <td>0</td>\n",
       "      <td>0</td>\n",
       "      <td>0</td>\n",
       "      <td>1</td>\n",
       "      <td>0</td>\n",
       "      <td>0</td>\n",
       "      <td>0</td>\n",
       "      <td>0</td>\n",
       "      <td>...</td>\n",
       "      <td>0</td>\n",
       "      <td>0</td>\n",
       "      <td>0</td>\n",
       "      <td>0</td>\n",
       "      <td>0</td>\n",
       "      <td>0</td>\n",
       "      <td>1</td>\n",
       "      <td>0</td>\n",
       "      <td>0</td>\n",
       "      <td>1</td>\n",
       "    </tr>\n",
       "    <tr>\n",
       "      <th>1</th>\n",
       "      <td>0</td>\n",
       "      <td>1</td>\n",
       "      <td>0</td>\n",
       "      <td>0</td>\n",
       "      <td>0</td>\n",
       "      <td>0</td>\n",
       "      <td>0</td>\n",
       "      <td>0</td>\n",
       "      <td>0</td>\n",
       "      <td>0</td>\n",
       "      <td>...</td>\n",
       "      <td>0</td>\n",
       "      <td>0</td>\n",
       "      <td>0</td>\n",
       "      <td>0</td>\n",
       "      <td>0</td>\n",
       "      <td>0</td>\n",
       "      <td>0</td>\n",
       "      <td>0</td>\n",
       "      <td>0</td>\n",
       "      <td>0</td>\n",
       "    </tr>\n",
       "    <tr>\n",
       "      <th>2</th>\n",
       "      <td>0</td>\n",
       "      <td>0</td>\n",
       "      <td>0</td>\n",
       "      <td>0</td>\n",
       "      <td>0</td>\n",
       "      <td>0</td>\n",
       "      <td>0</td>\n",
       "      <td>0</td>\n",
       "      <td>0</td>\n",
       "      <td>0</td>\n",
       "      <td>...</td>\n",
       "      <td>0</td>\n",
       "      <td>0</td>\n",
       "      <td>0</td>\n",
       "      <td>0</td>\n",
       "      <td>0</td>\n",
       "      <td>0</td>\n",
       "      <td>0</td>\n",
       "      <td>0</td>\n",
       "      <td>0</td>\n",
       "      <td>0</td>\n",
       "    </tr>\n",
       "    <tr>\n",
       "      <th>3</th>\n",
       "      <td>0</td>\n",
       "      <td>0</td>\n",
       "      <td>0</td>\n",
       "      <td>0</td>\n",
       "      <td>0</td>\n",
       "      <td>0</td>\n",
       "      <td>0</td>\n",
       "      <td>0</td>\n",
       "      <td>0</td>\n",
       "      <td>0</td>\n",
       "      <td>...</td>\n",
       "      <td>0</td>\n",
       "      <td>0</td>\n",
       "      <td>0</td>\n",
       "      <td>0</td>\n",
       "      <td>0</td>\n",
       "      <td>0</td>\n",
       "      <td>0</td>\n",
       "      <td>0</td>\n",
       "      <td>0</td>\n",
       "      <td>0</td>\n",
       "    </tr>\n",
       "    <tr>\n",
       "      <th>4</th>\n",
       "      <td>1</td>\n",
       "      <td>0</td>\n",
       "      <td>0</td>\n",
       "      <td>0</td>\n",
       "      <td>0</td>\n",
       "      <td>1</td>\n",
       "      <td>1</td>\n",
       "      <td>0</td>\n",
       "      <td>0</td>\n",
       "      <td>0</td>\n",
       "      <td>...</td>\n",
       "      <td>0</td>\n",
       "      <td>1</td>\n",
       "      <td>0</td>\n",
       "      <td>0</td>\n",
       "      <td>0</td>\n",
       "      <td>0</td>\n",
       "      <td>0</td>\n",
       "      <td>0</td>\n",
       "      <td>0</td>\n",
       "      <td>0</td>\n",
       "    </tr>\n",
       "    <tr>\n",
       "      <th>5</th>\n",
       "      <td>0</td>\n",
       "      <td>0</td>\n",
       "      <td>0</td>\n",
       "      <td>0</td>\n",
       "      <td>0</td>\n",
       "      <td>0</td>\n",
       "      <td>0</td>\n",
       "      <td>0</td>\n",
       "      <td>0</td>\n",
       "      <td>0</td>\n",
       "      <td>...</td>\n",
       "      <td>0</td>\n",
       "      <td>0</td>\n",
       "      <td>0</td>\n",
       "      <td>0</td>\n",
       "      <td>0</td>\n",
       "      <td>0</td>\n",
       "      <td>0</td>\n",
       "      <td>0</td>\n",
       "      <td>0</td>\n",
       "      <td>0</td>\n",
       "    </tr>\n",
       "    <tr>\n",
       "      <th>6</th>\n",
       "      <td>0</td>\n",
       "      <td>0</td>\n",
       "      <td>0</td>\n",
       "      <td>1</td>\n",
       "      <td>0</td>\n",
       "      <td>0</td>\n",
       "      <td>0</td>\n",
       "      <td>0</td>\n",
       "      <td>0</td>\n",
       "      <td>0</td>\n",
       "      <td>...</td>\n",
       "      <td>0</td>\n",
       "      <td>0</td>\n",
       "      <td>0</td>\n",
       "      <td>0</td>\n",
       "      <td>0</td>\n",
       "      <td>0</td>\n",
       "      <td>0</td>\n",
       "      <td>0</td>\n",
       "      <td>0</td>\n",
       "      <td>0</td>\n",
       "    </tr>\n",
       "    <tr>\n",
       "      <th>7</th>\n",
       "      <td>0</td>\n",
       "      <td>0</td>\n",
       "      <td>0</td>\n",
       "      <td>0</td>\n",
       "      <td>0</td>\n",
       "      <td>0</td>\n",
       "      <td>0</td>\n",
       "      <td>0</td>\n",
       "      <td>0</td>\n",
       "      <td>0</td>\n",
       "      <td>...</td>\n",
       "      <td>0</td>\n",
       "      <td>0</td>\n",
       "      <td>0</td>\n",
       "      <td>0</td>\n",
       "      <td>1</td>\n",
       "      <td>0</td>\n",
       "      <td>0</td>\n",
       "      <td>0</td>\n",
       "      <td>0</td>\n",
       "      <td>0</td>\n",
       "    </tr>\n",
       "    <tr>\n",
       "      <th>8</th>\n",
       "      <td>0</td>\n",
       "      <td>0</td>\n",
       "      <td>1</td>\n",
       "      <td>0</td>\n",
       "      <td>0</td>\n",
       "      <td>1</td>\n",
       "      <td>0</td>\n",
       "      <td>0</td>\n",
       "      <td>1</td>\n",
       "      <td>0</td>\n",
       "      <td>...</td>\n",
       "      <td>0</td>\n",
       "      <td>0</td>\n",
       "      <td>0</td>\n",
       "      <td>0</td>\n",
       "      <td>0</td>\n",
       "      <td>0</td>\n",
       "      <td>0</td>\n",
       "      <td>0</td>\n",
       "      <td>0</td>\n",
       "      <td>0</td>\n",
       "    </tr>\n",
       "    <tr>\n",
       "      <th>9</th>\n",
       "      <td>0</td>\n",
       "      <td>0</td>\n",
       "      <td>0</td>\n",
       "      <td>1</td>\n",
       "      <td>0</td>\n",
       "      <td>0</td>\n",
       "      <td>0</td>\n",
       "      <td>0</td>\n",
       "      <td>0</td>\n",
       "      <td>0</td>\n",
       "      <td>...</td>\n",
       "      <td>0</td>\n",
       "      <td>0</td>\n",
       "      <td>0</td>\n",
       "      <td>0</td>\n",
       "      <td>0</td>\n",
       "      <td>0</td>\n",
       "      <td>0</td>\n",
       "      <td>0</td>\n",
       "      <td>0</td>\n",
       "      <td>0</td>\n",
       "    </tr>\n",
       "  </tbody>\n",
       "</table>\n",
       "<p>10 rows × 30 columns</p>\n",
       "</div>"
      ],
      "text/plain": [
       "   mineral water  eggs  spaghetti  french fries  chocolate  green tea  milk  \\\n",
       "0              1     0          0             0          0          1     0   \n",
       "1              0     1          0             0          0          0     0   \n",
       "2              0     0          0             0          0          0     0   \n",
       "3              0     0          0             0          0          0     0   \n",
       "4              1     0          0             0          0          1     1   \n",
       "5              0     0          0             0          0          0     0   \n",
       "6              0     0          0             1          0          0     0   \n",
       "7              0     0          0             0          0          0     0   \n",
       "8              0     0          1             0          0          1     0   \n",
       "9              0     0          0             1          0          0     0   \n",
       "\n",
       "   ground beef  frozen vegetables  pancakes  ...  chicken  whole wheat rice  \\\n",
       "0            0                  0         0  ...        0                 0   \n",
       "1            0                  0         0  ...        0                 0   \n",
       "2            0                  0         0  ...        0                 0   \n",
       "3            0                  0         0  ...        0                 0   \n",
       "4            0                  0         0  ...        0                 1   \n",
       "5            0                  0         0  ...        0                 0   \n",
       "6            0                  0         0  ...        0                 0   \n",
       "7            0                  0         0  ...        0                 0   \n",
       "8            0                  1         0  ...        0                 0   \n",
       "9            0                  0         0  ...        0                 0   \n",
       "\n",
       "   grated cheese  cooking oil  soup  herb & pepper  honey  champagne  \\\n",
       "0              0            0     0              0      1          0   \n",
       "1              0            0     0              0      0          0   \n",
       "2              0            0     0              0      0          0   \n",
       "3              0            0     0              0      0          0   \n",
       "4              0            0     0              0      0          0   \n",
       "5              0            0     0              0      0          0   \n",
       "6              0            0     0              0      0          0   \n",
       "7              0            0     1              0      0          0   \n",
       "8              0            0     0              0      0          0   \n",
       "9              0            0     0              0      0          0   \n",
       "\n",
       "   fresh bread  salmon  \n",
       "0            0       1  \n",
       "1            0       0  \n",
       "2            0       0  \n",
       "3            0       0  \n",
       "4            0       0  \n",
       "5            0       0  \n",
       "6            0       0  \n",
       "7            0       0  \n",
       "8            0       0  \n",
       "9            0       0  \n",
       "\n",
       "[10 rows x 30 columns]"
      ]
     },
     "execution_count": 43,
     "metadata": {},
     "output_type": "execute_result"
    }
   ],
   "source": [
    "# Transform Every Transaction to Seperate List & Gather Them into Numpy Array\n",
    "# By Doing So, We Will Be Able To Iterate Through Array of Transactions\n",
    "\n",
    "transaction = []\n",
    "for i in range(data.shape[0]):\n",
    "    transaction.append([str(data.values[i,j]) for j in range(data.shape[1])])\n",
    "    \n",
    "transaction = np.array(transaction)\n",
    "\n",
    "# Create a DataFrame In Order To Check Status of Top20 Items\n",
    "\n",
    "top30 = df_table[\"items\"].head(30).values\n",
    "array = []\n",
    "df_top30_multiple_record_check = pd.DataFrame(columns=top30)\n",
    "\n",
    "for i in range(0, len(top30)):\n",
    "    array = []\n",
    "    for j in range(0,transaction.shape[0]):\n",
    "        array.append(np.count_nonzero(transaction[j]==top30[i]))\n",
    "        if len(array) == len(data):\n",
    "            df_top30_multiple_record_check[top30[i]] = array\n",
    "        else:\n",
    "            continue\n",
    "            \n",
    "\n",
    "df_top30_multiple_record_check.head(10)"
   ]
  },
  {
   "cell_type": "code",
   "execution_count": 44,
   "id": "9b42b5a1",
   "metadata": {},
   "outputs": [
    {
     "data": {
      "text/html": [
       "<div>\n",
       "<style scoped>\n",
       "    .dataframe tbody tr th:only-of-type {\n",
       "        vertical-align: middle;\n",
       "    }\n",
       "\n",
       "    .dataframe tbody tr th {\n",
       "        vertical-align: top;\n",
       "    }\n",
       "\n",
       "    .dataframe thead th {\n",
       "        text-align: right;\n",
       "    }\n",
       "</style>\n",
       "<table border=\"1\" class=\"dataframe\">\n",
       "  <thead>\n",
       "    <tr style=\"text-align: right;\">\n",
       "      <th></th>\n",
       "      <th>mineral water</th>\n",
       "      <th>eggs</th>\n",
       "      <th>spaghetti</th>\n",
       "      <th>french fries</th>\n",
       "      <th>chocolate</th>\n",
       "      <th>green tea</th>\n",
       "      <th>milk</th>\n",
       "      <th>ground beef</th>\n",
       "      <th>frozen vegetables</th>\n",
       "      <th>pancakes</th>\n",
       "      <th>...</th>\n",
       "      <th>chicken</th>\n",
       "      <th>whole wheat rice</th>\n",
       "      <th>grated cheese</th>\n",
       "      <th>cooking oil</th>\n",
       "      <th>soup</th>\n",
       "      <th>herb &amp; pepper</th>\n",
       "      <th>honey</th>\n",
       "      <th>champagne</th>\n",
       "      <th>fresh bread</th>\n",
       "      <th>salmon</th>\n",
       "    </tr>\n",
       "  </thead>\n",
       "  <tbody>\n",
       "    <tr>\n",
       "      <th>0</th>\n",
       "      <td>1</td>\n",
       "      <td>0</td>\n",
       "      <td>0</td>\n",
       "      <td>0</td>\n",
       "      <td>0</td>\n",
       "      <td>1</td>\n",
       "      <td>0</td>\n",
       "      <td>0</td>\n",
       "      <td>0</td>\n",
       "      <td>0</td>\n",
       "      <td>...</td>\n",
       "      <td>0</td>\n",
       "      <td>0</td>\n",
       "      <td>0</td>\n",
       "      <td>0</td>\n",
       "      <td>0</td>\n",
       "      <td>0</td>\n",
       "      <td>1</td>\n",
       "      <td>0</td>\n",
       "      <td>0</td>\n",
       "      <td>1</td>\n",
       "    </tr>\n",
       "    <tr>\n",
       "      <th>1</th>\n",
       "      <td>0</td>\n",
       "      <td>1</td>\n",
       "      <td>0</td>\n",
       "      <td>0</td>\n",
       "      <td>0</td>\n",
       "      <td>0</td>\n",
       "      <td>0</td>\n",
       "      <td>0</td>\n",
       "      <td>0</td>\n",
       "      <td>0</td>\n",
       "      <td>...</td>\n",
       "      <td>0</td>\n",
       "      <td>0</td>\n",
       "      <td>0</td>\n",
       "      <td>0</td>\n",
       "      <td>0</td>\n",
       "      <td>0</td>\n",
       "      <td>0</td>\n",
       "      <td>0</td>\n",
       "      <td>0</td>\n",
       "      <td>0</td>\n",
       "    </tr>\n",
       "    <tr>\n",
       "      <th>2</th>\n",
       "      <td>0</td>\n",
       "      <td>0</td>\n",
       "      <td>0</td>\n",
       "      <td>0</td>\n",
       "      <td>0</td>\n",
       "      <td>0</td>\n",
       "      <td>0</td>\n",
       "      <td>0</td>\n",
       "      <td>0</td>\n",
       "      <td>0</td>\n",
       "      <td>...</td>\n",
       "      <td>0</td>\n",
       "      <td>0</td>\n",
       "      <td>0</td>\n",
       "      <td>0</td>\n",
       "      <td>0</td>\n",
       "      <td>0</td>\n",
       "      <td>0</td>\n",
       "      <td>0</td>\n",
       "      <td>0</td>\n",
       "      <td>0</td>\n",
       "    </tr>\n",
       "    <tr>\n",
       "      <th>3</th>\n",
       "      <td>0</td>\n",
       "      <td>0</td>\n",
       "      <td>0</td>\n",
       "      <td>0</td>\n",
       "      <td>0</td>\n",
       "      <td>0</td>\n",
       "      <td>0</td>\n",
       "      <td>0</td>\n",
       "      <td>0</td>\n",
       "      <td>0</td>\n",
       "      <td>...</td>\n",
       "      <td>0</td>\n",
       "      <td>0</td>\n",
       "      <td>0</td>\n",
       "      <td>0</td>\n",
       "      <td>0</td>\n",
       "      <td>0</td>\n",
       "      <td>0</td>\n",
       "      <td>0</td>\n",
       "      <td>0</td>\n",
       "      <td>0</td>\n",
       "    </tr>\n",
       "    <tr>\n",
       "      <th>4</th>\n",
       "      <td>1</td>\n",
       "      <td>0</td>\n",
       "      <td>0</td>\n",
       "      <td>0</td>\n",
       "      <td>0</td>\n",
       "      <td>1</td>\n",
       "      <td>1</td>\n",
       "      <td>0</td>\n",
       "      <td>0</td>\n",
       "      <td>0</td>\n",
       "      <td>...</td>\n",
       "      <td>0</td>\n",
       "      <td>1</td>\n",
       "      <td>0</td>\n",
       "      <td>0</td>\n",
       "      <td>0</td>\n",
       "      <td>0</td>\n",
       "      <td>0</td>\n",
       "      <td>0</td>\n",
       "      <td>0</td>\n",
       "      <td>0</td>\n",
       "    </tr>\n",
       "    <tr>\n",
       "      <th>...</th>\n",
       "      <td>...</td>\n",
       "      <td>...</td>\n",
       "      <td>...</td>\n",
       "      <td>...</td>\n",
       "      <td>...</td>\n",
       "      <td>...</td>\n",
       "      <td>...</td>\n",
       "      <td>...</td>\n",
       "      <td>...</td>\n",
       "      <td>...</td>\n",
       "      <td>...</td>\n",
       "      <td>...</td>\n",
       "      <td>...</td>\n",
       "      <td>...</td>\n",
       "      <td>...</td>\n",
       "      <td>...</td>\n",
       "      <td>...</td>\n",
       "      <td>...</td>\n",
       "      <td>...</td>\n",
       "      <td>...</td>\n",
       "      <td>...</td>\n",
       "    </tr>\n",
       "    <tr>\n",
       "      <th>7496</th>\n",
       "      <td>0</td>\n",
       "      <td>0</td>\n",
       "      <td>0</td>\n",
       "      <td>0</td>\n",
       "      <td>0</td>\n",
       "      <td>0</td>\n",
       "      <td>0</td>\n",
       "      <td>0</td>\n",
       "      <td>0</td>\n",
       "      <td>0</td>\n",
       "      <td>...</td>\n",
       "      <td>0</td>\n",
       "      <td>0</td>\n",
       "      <td>0</td>\n",
       "      <td>0</td>\n",
       "      <td>0</td>\n",
       "      <td>0</td>\n",
       "      <td>0</td>\n",
       "      <td>0</td>\n",
       "      <td>1</td>\n",
       "      <td>0</td>\n",
       "    </tr>\n",
       "    <tr>\n",
       "      <th>7497</th>\n",
       "      <td>0</td>\n",
       "      <td>1</td>\n",
       "      <td>0</td>\n",
       "      <td>1</td>\n",
       "      <td>0</td>\n",
       "      <td>1</td>\n",
       "      <td>0</td>\n",
       "      <td>0</td>\n",
       "      <td>1</td>\n",
       "      <td>0</td>\n",
       "      <td>...</td>\n",
       "      <td>0</td>\n",
       "      <td>0</td>\n",
       "      <td>0</td>\n",
       "      <td>0</td>\n",
       "      <td>0</td>\n",
       "      <td>0</td>\n",
       "      <td>0</td>\n",
       "      <td>0</td>\n",
       "      <td>0</td>\n",
       "      <td>0</td>\n",
       "    </tr>\n",
       "    <tr>\n",
       "      <th>7498</th>\n",
       "      <td>0</td>\n",
       "      <td>0</td>\n",
       "      <td>0</td>\n",
       "      <td>0</td>\n",
       "      <td>0</td>\n",
       "      <td>0</td>\n",
       "      <td>0</td>\n",
       "      <td>0</td>\n",
       "      <td>0</td>\n",
       "      <td>0</td>\n",
       "      <td>...</td>\n",
       "      <td>1</td>\n",
       "      <td>0</td>\n",
       "      <td>0</td>\n",
       "      <td>0</td>\n",
       "      <td>0</td>\n",
       "      <td>0</td>\n",
       "      <td>0</td>\n",
       "      <td>0</td>\n",
       "      <td>0</td>\n",
       "      <td>0</td>\n",
       "    </tr>\n",
       "    <tr>\n",
       "      <th>7499</th>\n",
       "      <td>0</td>\n",
       "      <td>0</td>\n",
       "      <td>0</td>\n",
       "      <td>0</td>\n",
       "      <td>0</td>\n",
       "      <td>1</td>\n",
       "      <td>0</td>\n",
       "      <td>0</td>\n",
       "      <td>0</td>\n",
       "      <td>0</td>\n",
       "      <td>...</td>\n",
       "      <td>0</td>\n",
       "      <td>0</td>\n",
       "      <td>0</td>\n",
       "      <td>0</td>\n",
       "      <td>0</td>\n",
       "      <td>0</td>\n",
       "      <td>0</td>\n",
       "      <td>0</td>\n",
       "      <td>0</td>\n",
       "      <td>0</td>\n",
       "    </tr>\n",
       "    <tr>\n",
       "      <th>7500</th>\n",
       "      <td>0</td>\n",
       "      <td>1</td>\n",
       "      <td>0</td>\n",
       "      <td>0</td>\n",
       "      <td>0</td>\n",
       "      <td>0</td>\n",
       "      <td>0</td>\n",
       "      <td>0</td>\n",
       "      <td>0</td>\n",
       "      <td>0</td>\n",
       "      <td>...</td>\n",
       "      <td>0</td>\n",
       "      <td>0</td>\n",
       "      <td>0</td>\n",
       "      <td>0</td>\n",
       "      <td>0</td>\n",
       "      <td>0</td>\n",
       "      <td>0</td>\n",
       "      <td>0</td>\n",
       "      <td>0</td>\n",
       "      <td>0</td>\n",
       "    </tr>\n",
       "  </tbody>\n",
       "</table>\n",
       "<p>7501 rows × 30 columns</p>\n",
       "</div>"
      ],
      "text/plain": [
       "      mineral water  eggs  spaghetti  french fries  chocolate  green tea  \\\n",
       "0                 1     0          0             0          0          1   \n",
       "1                 0     1          0             0          0          0   \n",
       "2                 0     0          0             0          0          0   \n",
       "3                 0     0          0             0          0          0   \n",
       "4                 1     0          0             0          0          1   \n",
       "...             ...   ...        ...           ...        ...        ...   \n",
       "7496              0     0          0             0          0          0   \n",
       "7497              0     1          0             1          0          1   \n",
       "7498              0     0          0             0          0          0   \n",
       "7499              0     0          0             0          0          1   \n",
       "7500              0     1          0             0          0          0   \n",
       "\n",
       "      milk  ground beef  frozen vegetables  pancakes  ...  chicken  \\\n",
       "0        0            0                  0         0  ...        0   \n",
       "1        0            0                  0         0  ...        0   \n",
       "2        0            0                  0         0  ...        0   \n",
       "3        0            0                  0         0  ...        0   \n",
       "4        1            0                  0         0  ...        0   \n",
       "...    ...          ...                ...       ...  ...      ...   \n",
       "7496     0            0                  0         0  ...        0   \n",
       "7497     0            0                  1         0  ...        0   \n",
       "7498     0            0                  0         0  ...        1   \n",
       "7499     0            0                  0         0  ...        0   \n",
       "7500     0            0                  0         0  ...        0   \n",
       "\n",
       "      whole wheat rice  grated cheese  cooking oil  soup  herb & pepper  \\\n",
       "0                    0              0            0     0              0   \n",
       "1                    0              0            0     0              0   \n",
       "2                    0              0            0     0              0   \n",
       "3                    0              0            0     0              0   \n",
       "4                    1              0            0     0              0   \n",
       "...                ...            ...          ...   ...            ...   \n",
       "7496                 0              0            0     0              0   \n",
       "7497                 0              0            0     0              0   \n",
       "7498                 0              0            0     0              0   \n",
       "7499                 0              0            0     0              0   \n",
       "7500                 0              0            0     0              0   \n",
       "\n",
       "      honey  champagne  fresh bread  salmon  \n",
       "0         1          0            0       1  \n",
       "1         0          0            0       0  \n",
       "2         0          0            0       0  \n",
       "3         0          0            0       0  \n",
       "4         0          0            0       0  \n",
       "...     ...        ...          ...     ...  \n",
       "7496      0          0            1       0  \n",
       "7497      0          0            0       0  \n",
       "7498      0          0            0       0  \n",
       "7499      0          0            0       0  \n",
       "7500      0          0            0       0  \n",
       "\n",
       "[7501 rows x 30 columns]"
      ]
     },
     "execution_count": 44,
     "metadata": {},
     "output_type": "execute_result"
    }
   ],
   "source": [
    "df_top30_multiple_record_check"
   ]
  },
  {
   "cell_type": "markdown",
   "id": "57265d4c",
   "metadata": {},
   "source": [
    "## 7. Frequent Itemset"
   ]
  },
  {
   "cell_type": "code",
   "execution_count": 46,
   "id": "d9d5ef35",
   "metadata": {},
   "outputs": [],
   "source": [
    "def encode_units(x):\n",
    "    if x <= 0:\n",
    "        return 0\n",
    "    if x >= 1:\n",
    "        return 1\n",
    "\n",
    "basket_sets = df_top30_multiple_record_check.applymap(encode_units)"
   ]
  },
  {
   "cell_type": "code",
   "execution_count": 50,
   "id": "1bbe8b3b",
   "metadata": {},
   "outputs": [],
   "source": [
    "frequent_itemsets = apriori(basket_sets, min_support=0.01, use_colnames=True)"
   ]
  },
  {
   "cell_type": "code",
   "execution_count": 51,
   "id": "a758cbb9",
   "metadata": {},
   "outputs": [
    {
     "data": {
      "text/html": [
       "<div>\n",
       "<style scoped>\n",
       "    .dataframe tbody tr th:only-of-type {\n",
       "        vertical-align: middle;\n",
       "    }\n",
       "\n",
       "    .dataframe tbody tr th {\n",
       "        vertical-align: top;\n",
       "    }\n",
       "\n",
       "    .dataframe thead th {\n",
       "        text-align: right;\n",
       "    }\n",
       "</style>\n",
       "<table border=\"1\" class=\"dataframe\">\n",
       "  <thead>\n",
       "    <tr style=\"text-align: right;\">\n",
       "      <th></th>\n",
       "      <th>support</th>\n",
       "      <th>itemsets</th>\n",
       "    </tr>\n",
       "  </thead>\n",
       "  <tbody>\n",
       "    <tr>\n",
       "      <th>0</th>\n",
       "      <td>0.238368</td>\n",
       "      <td>(mineral water)</td>\n",
       "    </tr>\n",
       "    <tr>\n",
       "      <th>1</th>\n",
       "      <td>0.179709</td>\n",
       "      <td>(eggs)</td>\n",
       "    </tr>\n",
       "    <tr>\n",
       "      <th>2</th>\n",
       "      <td>0.174110</td>\n",
       "      <td>(spaghetti)</td>\n",
       "    </tr>\n",
       "    <tr>\n",
       "      <th>3</th>\n",
       "      <td>0.170911</td>\n",
       "      <td>(french fries)</td>\n",
       "    </tr>\n",
       "    <tr>\n",
       "      <th>4</th>\n",
       "      <td>0.163845</td>\n",
       "      <td>(chocolate)</td>\n",
       "    </tr>\n",
       "    <tr>\n",
       "      <th>...</th>\n",
       "      <td>...</td>\n",
       "      <td>...</td>\n",
       "    </tr>\n",
       "    <tr>\n",
       "      <th>203</th>\n",
       "      <td>0.010932</td>\n",
       "      <td>(mineral water, ground beef, chocolate)</td>\n",
       "    </tr>\n",
       "    <tr>\n",
       "      <th>204</th>\n",
       "      <td>0.011065</td>\n",
       "      <td>(mineral water, ground beef, milk)</td>\n",
       "    </tr>\n",
       "    <tr>\n",
       "      <th>205</th>\n",
       "      <td>0.011065</td>\n",
       "      <td>(frozen vegetables, mineral water, milk)</td>\n",
       "    </tr>\n",
       "    <tr>\n",
       "      <th>206</th>\n",
       "      <td>0.010532</td>\n",
       "      <td>(eggs, chocolate, spaghetti)</td>\n",
       "    </tr>\n",
       "    <tr>\n",
       "      <th>207</th>\n",
       "      <td>0.010932</td>\n",
       "      <td>(chocolate, milk, spaghetti)</td>\n",
       "    </tr>\n",
       "  </tbody>\n",
       "</table>\n",
       "<p>208 rows × 2 columns</p>\n",
       "</div>"
      ],
      "text/plain": [
       "      support                                  itemsets\n",
       "0    0.238368                           (mineral water)\n",
       "1    0.179709                                    (eggs)\n",
       "2    0.174110                               (spaghetti)\n",
       "3    0.170911                            (french fries)\n",
       "4    0.163845                               (chocolate)\n",
       "..        ...                                       ...\n",
       "203  0.010932   (mineral water, ground beef, chocolate)\n",
       "204  0.011065        (mineral water, ground beef, milk)\n",
       "205  0.011065  (frozen vegetables, mineral water, milk)\n",
       "206  0.010532              (eggs, chocolate, spaghetti)\n",
       "207  0.010932              (chocolate, milk, spaghetti)\n",
       "\n",
       "[208 rows x 2 columns]"
      ]
     },
     "execution_count": 51,
     "metadata": {},
     "output_type": "execute_result"
    }
   ],
   "source": [
    "frequent_itemsets"
   ]
  },
  {
   "cell_type": "code",
   "execution_count": 53,
   "id": "1399a956",
   "metadata": {},
   "outputs": [
    {
     "data": {
      "text/html": [
       "<div>\n",
       "<style scoped>\n",
       "    .dataframe tbody tr th:only-of-type {\n",
       "        vertical-align: middle;\n",
       "    }\n",
       "\n",
       "    .dataframe tbody tr th {\n",
       "        vertical-align: top;\n",
       "    }\n",
       "\n",
       "    .dataframe thead th {\n",
       "        text-align: right;\n",
       "    }\n",
       "</style>\n",
       "<table border=\"1\" class=\"dataframe\">\n",
       "  <thead>\n",
       "    <tr style=\"text-align: right;\">\n",
       "      <th></th>\n",
       "      <th>support</th>\n",
       "      <th>itemsets</th>\n",
       "      <th>length</th>\n",
       "    </tr>\n",
       "  </thead>\n",
       "  <tbody>\n",
       "    <tr>\n",
       "      <th>0</th>\n",
       "      <td>0.238368</td>\n",
       "      <td>(mineral water)</td>\n",
       "      <td>1</td>\n",
       "    </tr>\n",
       "    <tr>\n",
       "      <th>1</th>\n",
       "      <td>0.179709</td>\n",
       "      <td>(eggs)</td>\n",
       "      <td>1</td>\n",
       "    </tr>\n",
       "    <tr>\n",
       "      <th>2</th>\n",
       "      <td>0.174110</td>\n",
       "      <td>(spaghetti)</td>\n",
       "      <td>1</td>\n",
       "    </tr>\n",
       "    <tr>\n",
       "      <th>3</th>\n",
       "      <td>0.170911</td>\n",
       "      <td>(french fries)</td>\n",
       "      <td>1</td>\n",
       "    </tr>\n",
       "    <tr>\n",
       "      <th>4</th>\n",
       "      <td>0.163845</td>\n",
       "      <td>(chocolate)</td>\n",
       "      <td>1</td>\n",
       "    </tr>\n",
       "    <tr>\n",
       "      <th>...</th>\n",
       "      <td>...</td>\n",
       "      <td>...</td>\n",
       "      <td>...</td>\n",
       "    </tr>\n",
       "    <tr>\n",
       "      <th>203</th>\n",
       "      <td>0.010932</td>\n",
       "      <td>(mineral water, ground beef, chocolate)</td>\n",
       "      <td>3</td>\n",
       "    </tr>\n",
       "    <tr>\n",
       "      <th>204</th>\n",
       "      <td>0.011065</td>\n",
       "      <td>(mineral water, ground beef, milk)</td>\n",
       "      <td>3</td>\n",
       "    </tr>\n",
       "    <tr>\n",
       "      <th>205</th>\n",
       "      <td>0.011065</td>\n",
       "      <td>(frozen vegetables, mineral water, milk)</td>\n",
       "      <td>3</td>\n",
       "    </tr>\n",
       "    <tr>\n",
       "      <th>206</th>\n",
       "      <td>0.010532</td>\n",
       "      <td>(eggs, chocolate, spaghetti)</td>\n",
       "      <td>3</td>\n",
       "    </tr>\n",
       "    <tr>\n",
       "      <th>207</th>\n",
       "      <td>0.010932</td>\n",
       "      <td>(chocolate, milk, spaghetti)</td>\n",
       "      <td>3</td>\n",
       "    </tr>\n",
       "  </tbody>\n",
       "</table>\n",
       "<p>208 rows × 3 columns</p>\n",
       "</div>"
      ],
      "text/plain": [
       "      support                                  itemsets  length\n",
       "0    0.238368                           (mineral water)       1\n",
       "1    0.179709                                    (eggs)       1\n",
       "2    0.174110                               (spaghetti)       1\n",
       "3    0.170911                            (french fries)       1\n",
       "4    0.163845                               (chocolate)       1\n",
       "..        ...                                       ...     ...\n",
       "203  0.010932   (mineral water, ground beef, chocolate)       3\n",
       "204  0.011065        (mineral water, ground beef, milk)       3\n",
       "205  0.011065  (frozen vegetables, mineral water, milk)       3\n",
       "206  0.010532              (eggs, chocolate, spaghetti)       3\n",
       "207  0.010932              (chocolate, milk, spaghetti)       3\n",
       "\n",
       "[208 rows x 3 columns]"
      ]
     },
     "execution_count": 53,
     "metadata": {},
     "output_type": "execute_result"
    }
   ],
   "source": [
    "frequent_itemsets['length'] = frequent_itemsets['itemsets'].apply(lambda x: len(x))\n",
    "frequent_itemsets"
   ]
  },
  {
   "cell_type": "code",
   "execution_count": 55,
   "id": "3fb13fdd",
   "metadata": {},
   "outputs": [
    {
     "data": {
      "text/html": [
       "<div>\n",
       "<style scoped>\n",
       "    .dataframe tbody tr th:only-of-type {\n",
       "        vertical-align: middle;\n",
       "    }\n",
       "\n",
       "    .dataframe tbody tr th {\n",
       "        vertical-align: top;\n",
       "    }\n",
       "\n",
       "    .dataframe thead th {\n",
       "        text-align: right;\n",
       "    }\n",
       "</style>\n",
       "<table border=\"1\" class=\"dataframe\">\n",
       "  <thead>\n",
       "    <tr style=\"text-align: right;\">\n",
       "      <th></th>\n",
       "      <th>support</th>\n",
       "      <th>itemsets</th>\n",
       "      <th>length</th>\n",
       "    </tr>\n",
       "  </thead>\n",
       "  <tbody>\n",
       "    <tr>\n",
       "      <th>30</th>\n",
       "      <td>0.050927</td>\n",
       "      <td>(mineral water, eggs)</td>\n",
       "      <td>2</td>\n",
       "    </tr>\n",
       "    <tr>\n",
       "      <th>31</th>\n",
       "      <td>0.059725</td>\n",
       "      <td>(mineral water, spaghetti)</td>\n",
       "      <td>2</td>\n",
       "    </tr>\n",
       "    <tr>\n",
       "      <th>33</th>\n",
       "      <td>0.052660</td>\n",
       "      <td>(mineral water, chocolate)</td>\n",
       "      <td>2</td>\n",
       "    </tr>\n",
       "  </tbody>\n",
       "</table>\n",
       "</div>"
      ],
      "text/plain": [
       "     support                    itemsets  length\n",
       "30  0.050927       (mineral water, eggs)       2\n",
       "31  0.059725  (mineral water, spaghetti)       2\n",
       "33  0.052660  (mineral water, chocolate)       2"
      ]
     },
     "execution_count": 55,
     "metadata": {},
     "output_type": "execute_result"
    }
   ],
   "source": [
    "frequent_itemsets[ (frequent_itemsets['length'] == 2) &\n",
    "                   (frequent_itemsets['support'] >= 0.05) ]"
   ]
  },
  {
   "cell_type": "code",
   "execution_count": 56,
   "id": "ec4d4710",
   "metadata": {},
   "outputs": [
    {
     "data": {
      "text/html": [
       "<div>\n",
       "<style scoped>\n",
       "    .dataframe tbody tr th:only-of-type {\n",
       "        vertical-align: middle;\n",
       "    }\n",
       "\n",
       "    .dataframe tbody tr th {\n",
       "        vertical-align: top;\n",
       "    }\n",
       "\n",
       "    .dataframe thead th {\n",
       "        text-align: right;\n",
       "    }\n",
       "</style>\n",
       "<table border=\"1\" class=\"dataframe\">\n",
       "  <thead>\n",
       "    <tr style=\"text-align: right;\">\n",
       "      <th></th>\n",
       "      <th>support</th>\n",
       "      <th>itemsets</th>\n",
       "      <th>length</th>\n",
       "    </tr>\n",
       "  </thead>\n",
       "  <tbody>\n",
       "    <tr>\n",
       "      <th>191</th>\n",
       "      <td>0.014265</td>\n",
       "      <td>(mineral water, eggs, spaghetti)</td>\n",
       "      <td>3</td>\n",
       "    </tr>\n",
       "    <tr>\n",
       "      <th>192</th>\n",
       "      <td>0.013465</td>\n",
       "      <td>(mineral water, eggs, chocolate)</td>\n",
       "      <td>3</td>\n",
       "    </tr>\n",
       "    <tr>\n",
       "      <th>193</th>\n",
       "      <td>0.013065</td>\n",
       "      <td>(mineral water, eggs, milk)</td>\n",
       "      <td>3</td>\n",
       "    </tr>\n",
       "    <tr>\n",
       "      <th>194</th>\n",
       "      <td>0.010132</td>\n",
       "      <td>(mineral water, ground beef, eggs)</td>\n",
       "      <td>3</td>\n",
       "    </tr>\n",
       "    <tr>\n",
       "      <th>195</th>\n",
       "      <td>0.010132</td>\n",
       "      <td>(french fries, mineral water, spaghetti)</td>\n",
       "      <td>3</td>\n",
       "    </tr>\n",
       "  </tbody>\n",
       "</table>\n",
       "</div>"
      ],
      "text/plain": [
       "      support                                  itemsets  length\n",
       "191  0.014265          (mineral water, eggs, spaghetti)       3\n",
       "192  0.013465          (mineral water, eggs, chocolate)       3\n",
       "193  0.013065               (mineral water, eggs, milk)       3\n",
       "194  0.010132        (mineral water, ground beef, eggs)       3\n",
       "195  0.010132  (french fries, mineral water, spaghetti)       3"
      ]
     },
     "execution_count": 56,
     "metadata": {},
     "output_type": "execute_result"
    }
   ],
   "source": [
    "frequent_itemsets[ (frequent_itemsets['length'] == 3) ].head()"
   ]
  },
  {
   "cell_type": "markdown",
   "id": "3b518ce0",
   "metadata": {},
   "source": [
    "## 8. Association Rules Generation"
   ]
  },
  {
   "cell_type": "code",
   "execution_count": 57,
   "id": "a176bddd",
   "metadata": {},
   "outputs": [
    {
     "data": {
      "text/html": [
       "<div>\n",
       "<style scoped>\n",
       "    .dataframe tbody tr th:only-of-type {\n",
       "        vertical-align: middle;\n",
       "    }\n",
       "\n",
       "    .dataframe tbody tr th {\n",
       "        vertical-align: top;\n",
       "    }\n",
       "\n",
       "    .dataframe thead th {\n",
       "        text-align: right;\n",
       "    }\n",
       "</style>\n",
       "<table border=\"1\" class=\"dataframe\">\n",
       "  <thead>\n",
       "    <tr style=\"text-align: right;\">\n",
       "      <th></th>\n",
       "      <th>antecedents</th>\n",
       "      <th>consequents</th>\n",
       "      <th>antecedent support</th>\n",
       "      <th>consequent support</th>\n",
       "      <th>support</th>\n",
       "      <th>confidence</th>\n",
       "      <th>lift</th>\n",
       "      <th>leverage</th>\n",
       "      <th>conviction</th>\n",
       "      <th>antecedents_length</th>\n",
       "      <th>consequents_length</th>\n",
       "    </tr>\n",
       "  </thead>\n",
       "  <tbody>\n",
       "    <tr>\n",
       "      <th>211</th>\n",
       "      <td>(herb &amp; pepper)</td>\n",
       "      <td>(ground beef)</td>\n",
       "      <td>0.049460</td>\n",
       "      <td>0.098254</td>\n",
       "      <td>0.015998</td>\n",
       "      <td>0.323450</td>\n",
       "      <td>3.291994</td>\n",
       "      <td>0.011138</td>\n",
       "      <td>1.332860</td>\n",
       "      <td>1</td>\n",
       "      <td>1</td>\n",
       "    </tr>\n",
       "    <tr>\n",
       "      <th>210</th>\n",
       "      <td>(ground beef)</td>\n",
       "      <td>(herb &amp; pepper)</td>\n",
       "      <td>0.098254</td>\n",
       "      <td>0.049460</td>\n",
       "      <td>0.015998</td>\n",
       "      <td>0.162822</td>\n",
       "      <td>3.291994</td>\n",
       "      <td>0.011138</td>\n",
       "      <td>1.135410</td>\n",
       "      <td>1</td>\n",
       "      <td>1</td>\n",
       "    </tr>\n",
       "    <tr>\n",
       "      <th>284</th>\n",
       "      <td>(ground beef)</td>\n",
       "      <td>(mineral water, spaghetti)</td>\n",
       "      <td>0.098254</td>\n",
       "      <td>0.059725</td>\n",
       "      <td>0.017064</td>\n",
       "      <td>0.173677</td>\n",
       "      <td>2.907928</td>\n",
       "      <td>0.011196</td>\n",
       "      <td>1.137902</td>\n",
       "      <td>1</td>\n",
       "      <td>2</td>\n",
       "    </tr>\n",
       "    <tr>\n",
       "      <th>281</th>\n",
       "      <td>(mineral water, spaghetti)</td>\n",
       "      <td>(ground beef)</td>\n",
       "      <td>0.059725</td>\n",
       "      <td>0.098254</td>\n",
       "      <td>0.017064</td>\n",
       "      <td>0.285714</td>\n",
       "      <td>2.907928</td>\n",
       "      <td>0.011196</td>\n",
       "      <td>1.262445</td>\n",
       "      <td>2</td>\n",
       "      <td>1</td>\n",
       "    </tr>\n",
       "    <tr>\n",
       "      <th>300</th>\n",
       "      <td>(mineral water, spaghetti)</td>\n",
       "      <td>(olive oil)</td>\n",
       "      <td>0.059725</td>\n",
       "      <td>0.065858</td>\n",
       "      <td>0.010265</td>\n",
       "      <td>0.171875</td>\n",
       "      <td>2.609786</td>\n",
       "      <td>0.006332</td>\n",
       "      <td>1.128021</td>\n",
       "      <td>2</td>\n",
       "      <td>1</td>\n",
       "    </tr>\n",
       "    <tr>\n",
       "      <th>...</th>\n",
       "      <td>...</td>\n",
       "      <td>...</td>\n",
       "      <td>...</td>\n",
       "      <td>...</td>\n",
       "      <td>...</td>\n",
       "      <td>...</td>\n",
       "      <td>...</td>\n",
       "      <td>...</td>\n",
       "      <td>...</td>\n",
       "      <td>...</td>\n",
       "      <td>...</td>\n",
       "    </tr>\n",
       "    <tr>\n",
       "      <th>55</th>\n",
       "      <td>(low fat yogurt)</td>\n",
       "      <td>(eggs)</td>\n",
       "      <td>0.076523</td>\n",
       "      <td>0.179709</td>\n",
       "      <td>0.016798</td>\n",
       "      <td>0.219512</td>\n",
       "      <td>1.221484</td>\n",
       "      <td>0.003046</td>\n",
       "      <td>1.050997</td>\n",
       "      <td>1</td>\n",
       "      <td>1</td>\n",
       "    </tr>\n",
       "    <tr>\n",
       "      <th>156</th>\n",
       "      <td>(green tea)</td>\n",
       "      <td>(shrimp)</td>\n",
       "      <td>0.132116</td>\n",
       "      <td>0.071457</td>\n",
       "      <td>0.011465</td>\n",
       "      <td>0.086781</td>\n",
       "      <td>1.214449</td>\n",
       "      <td>0.002025</td>\n",
       "      <td>1.016780</td>\n",
       "      <td>1</td>\n",
       "      <td>1</td>\n",
       "    </tr>\n",
       "    <tr>\n",
       "      <th>157</th>\n",
       "      <td>(shrimp)</td>\n",
       "      <td>(green tea)</td>\n",
       "      <td>0.071457</td>\n",
       "      <td>0.132116</td>\n",
       "      <td>0.011465</td>\n",
       "      <td>0.160448</td>\n",
       "      <td>1.214449</td>\n",
       "      <td>0.002025</td>\n",
       "      <td>1.033747</td>\n",
       "      <td>1</td>\n",
       "      <td>1</td>\n",
       "    </tr>\n",
       "    <tr>\n",
       "      <th>114</th>\n",
       "      <td>(french fries)</td>\n",
       "      <td>(escalope)</td>\n",
       "      <td>0.170911</td>\n",
       "      <td>0.079323</td>\n",
       "      <td>0.016398</td>\n",
       "      <td>0.095944</td>\n",
       "      <td>1.209537</td>\n",
       "      <td>0.002841</td>\n",
       "      <td>1.018385</td>\n",
       "      <td>1</td>\n",
       "      <td>1</td>\n",
       "    </tr>\n",
       "    <tr>\n",
       "      <th>115</th>\n",
       "      <td>(escalope)</td>\n",
       "      <td>(french fries)</td>\n",
       "      <td>0.079323</td>\n",
       "      <td>0.170911</td>\n",
       "      <td>0.016398</td>\n",
       "      <td>0.206723</td>\n",
       "      <td>1.209537</td>\n",
       "      <td>0.002841</td>\n",
       "      <td>1.045145</td>\n",
       "      <td>1</td>\n",
       "      <td>1</td>\n",
       "    </tr>\n",
       "  </tbody>\n",
       "</table>\n",
       "<p>340 rows × 11 columns</p>\n",
       "</div>"
      ],
      "text/plain": [
       "                    antecedents                 consequents  \\\n",
       "211             (herb & pepper)               (ground beef)   \n",
       "210               (ground beef)             (herb & pepper)   \n",
       "284               (ground beef)  (mineral water, spaghetti)   \n",
       "281  (mineral water, spaghetti)               (ground beef)   \n",
       "300  (mineral water, spaghetti)                 (olive oil)   \n",
       "..                          ...                         ...   \n",
       "55             (low fat yogurt)                      (eggs)   \n",
       "156                 (green tea)                    (shrimp)   \n",
       "157                    (shrimp)                 (green tea)   \n",
       "114              (french fries)                  (escalope)   \n",
       "115                  (escalope)              (french fries)   \n",
       "\n",
       "     antecedent support  consequent support   support  confidence      lift  \\\n",
       "211            0.049460            0.098254  0.015998    0.323450  3.291994   \n",
       "210            0.098254            0.049460  0.015998    0.162822  3.291994   \n",
       "284            0.098254            0.059725  0.017064    0.173677  2.907928   \n",
       "281            0.059725            0.098254  0.017064    0.285714  2.907928   \n",
       "300            0.059725            0.065858  0.010265    0.171875  2.609786   \n",
       "..                  ...                 ...       ...         ...       ...   \n",
       "55             0.076523            0.179709  0.016798    0.219512  1.221484   \n",
       "156            0.132116            0.071457  0.011465    0.086781  1.214449   \n",
       "157            0.071457            0.132116  0.011465    0.160448  1.214449   \n",
       "114            0.170911            0.079323  0.016398    0.095944  1.209537   \n",
       "115            0.079323            0.170911  0.016398    0.206723  1.209537   \n",
       "\n",
       "     leverage  conviction  antecedents_length  consequents_length  \n",
       "211  0.011138    1.332860                   1                   1  \n",
       "210  0.011138    1.135410                   1                   1  \n",
       "284  0.011196    1.137902                   1                   2  \n",
       "281  0.011196    1.262445                   2                   1  \n",
       "300  0.006332    1.128021                   2                   1  \n",
       "..        ...         ...                 ...                 ...  \n",
       "55   0.003046    1.050997                   1                   1  \n",
       "156  0.002025    1.016780                   1                   1  \n",
       "157  0.002025    1.033747                   1                   1  \n",
       "114  0.002841    1.018385                   1                   1  \n",
       "115  0.002841    1.045145                   1                   1  \n",
       "\n",
       "[340 rows x 11 columns]"
      ]
     },
     "execution_count": 57,
     "metadata": {},
     "output_type": "execute_result"
    }
   ],
   "source": [
    "rules = association_rules(frequent_itemsets, metric=\"lift\", min_threshold=1.2)\n",
    "rules[\"antecedents_length\"] = rules[\"antecedents\"].apply(lambda x: len(x))\n",
    "rules[\"consequents_length\"] = rules[\"consequents\"].apply(lambda x: len(x))\n",
    "rules.sort_values(\"lift\",ascending=False)"
   ]
  },
  {
   "cell_type": "code",
   "execution_count": 58,
   "id": "9b85f5cd",
   "metadata": {},
   "outputs": [
    {
     "data": {
      "text/html": [
       "<div>\n",
       "<style scoped>\n",
       "    .dataframe tbody tr th:only-of-type {\n",
       "        vertical-align: middle;\n",
       "    }\n",
       "\n",
       "    .dataframe tbody tr th {\n",
       "        vertical-align: top;\n",
       "    }\n",
       "\n",
       "    .dataframe thead th {\n",
       "        text-align: right;\n",
       "    }\n",
       "</style>\n",
       "<table border=\"1\" class=\"dataframe\">\n",
       "  <thead>\n",
       "    <tr style=\"text-align: right;\">\n",
       "      <th></th>\n",
       "      <th>antecedents</th>\n",
       "      <th>consequents</th>\n",
       "      <th>antecedent support</th>\n",
       "      <th>consequent support</th>\n",
       "      <th>support</th>\n",
       "      <th>confidence</th>\n",
       "      <th>lift</th>\n",
       "      <th>leverage</th>\n",
       "      <th>conviction</th>\n",
       "      <th>antecedents_length</th>\n",
       "      <th>consequents_length</th>\n",
       "    </tr>\n",
       "  </thead>\n",
       "  <tbody>\n",
       "    <tr>\n",
       "      <th>260</th>\n",
       "      <td>(ground beef, eggs)</td>\n",
       "      <td>(mineral water)</td>\n",
       "      <td>0.019997</td>\n",
       "      <td>0.238368</td>\n",
       "      <td>0.010132</td>\n",
       "      <td>0.506667</td>\n",
       "      <td>2.125563</td>\n",
       "      <td>0.005365</td>\n",
       "      <td>1.543848</td>\n",
       "      <td>2</td>\n",
       "      <td>1</td>\n",
       "    </tr>\n",
       "    <tr>\n",
       "      <th>318</th>\n",
       "      <td>(ground beef, milk)</td>\n",
       "      <td>(mineral water)</td>\n",
       "      <td>0.021997</td>\n",
       "      <td>0.238368</td>\n",
       "      <td>0.011065</td>\n",
       "      <td>0.503030</td>\n",
       "      <td>2.110308</td>\n",
       "      <td>0.005822</td>\n",
       "      <td>1.532552</td>\n",
       "      <td>2</td>\n",
       "      <td>1</td>\n",
       "    </tr>\n",
       "    <tr>\n",
       "      <th>312</th>\n",
       "      <td>(ground beef, chocolate)</td>\n",
       "      <td>(mineral water)</td>\n",
       "      <td>0.023064</td>\n",
       "      <td>0.238368</td>\n",
       "      <td>0.010932</td>\n",
       "      <td>0.473988</td>\n",
       "      <td>1.988472</td>\n",
       "      <td>0.005434</td>\n",
       "      <td>1.447937</td>\n",
       "      <td>2</td>\n",
       "      <td>1</td>\n",
       "    </tr>\n",
       "    <tr>\n",
       "      <th>323</th>\n",
       "      <td>(frozen vegetables, milk)</td>\n",
       "      <td>(mineral water)</td>\n",
       "      <td>0.023597</td>\n",
       "      <td>0.238368</td>\n",
       "      <td>0.011065</td>\n",
       "      <td>0.468927</td>\n",
       "      <td>1.967236</td>\n",
       "      <td>0.005440</td>\n",
       "      <td>1.434136</td>\n",
       "      <td>2</td>\n",
       "      <td>1</td>\n",
       "    </tr>\n",
       "    <tr>\n",
       "      <th>35</th>\n",
       "      <td>(soup)</td>\n",
       "      <td>(mineral water)</td>\n",
       "      <td>0.050527</td>\n",
       "      <td>0.238368</td>\n",
       "      <td>0.023064</td>\n",
       "      <td>0.456464</td>\n",
       "      <td>1.914955</td>\n",
       "      <td>0.011020</td>\n",
       "      <td>1.401255</td>\n",
       "      <td>1</td>\n",
       "      <td>1</td>\n",
       "    </tr>\n",
       "    <tr>\n",
       "      <th>...</th>\n",
       "      <td>...</td>\n",
       "      <td>...</td>\n",
       "      <td>...</td>\n",
       "      <td>...</td>\n",
       "      <td>...</td>\n",
       "      <td>...</td>\n",
       "      <td>...</td>\n",
       "      <td>...</td>\n",
       "      <td>...</td>\n",
       "      <td>...</td>\n",
       "      <td>...</td>\n",
       "    </tr>\n",
       "    <tr>\n",
       "      <th>326</th>\n",
       "      <td>(mineral water)</td>\n",
       "      <td>(frozen vegetables, milk)</td>\n",
       "      <td>0.238368</td>\n",
       "      <td>0.023597</td>\n",
       "      <td>0.011065</td>\n",
       "      <td>0.046421</td>\n",
       "      <td>1.967236</td>\n",
       "      <td>0.005440</td>\n",
       "      <td>1.023935</td>\n",
       "      <td>1</td>\n",
       "      <td>2</td>\n",
       "    </tr>\n",
       "    <tr>\n",
       "      <th>313</th>\n",
       "      <td>(mineral water)</td>\n",
       "      <td>(ground beef, chocolate)</td>\n",
       "      <td>0.238368</td>\n",
       "      <td>0.023064</td>\n",
       "      <td>0.010932</td>\n",
       "      <td>0.045861</td>\n",
       "      <td>1.988472</td>\n",
       "      <td>0.005434</td>\n",
       "      <td>1.023893</td>\n",
       "      <td>1</td>\n",
       "      <td>2</td>\n",
       "    </tr>\n",
       "    <tr>\n",
       "      <th>302</th>\n",
       "      <td>(mineral water)</td>\n",
       "      <td>(olive oil, spaghetti)</td>\n",
       "      <td>0.238368</td>\n",
       "      <td>0.022930</td>\n",
       "      <td>0.010265</td>\n",
       "      <td>0.043065</td>\n",
       "      <td>1.878079</td>\n",
       "      <td>0.004799</td>\n",
       "      <td>1.021041</td>\n",
       "      <td>1</td>\n",
       "      <td>2</td>\n",
       "    </tr>\n",
       "    <tr>\n",
       "      <th>261</th>\n",
       "      <td>(mineral water)</td>\n",
       "      <td>(ground beef, eggs)</td>\n",
       "      <td>0.238368</td>\n",
       "      <td>0.019997</td>\n",
       "      <td>0.010132</td>\n",
       "      <td>0.042506</td>\n",
       "      <td>2.125563</td>\n",
       "      <td>0.005365</td>\n",
       "      <td>1.023507</td>\n",
       "      <td>1</td>\n",
       "      <td>2</td>\n",
       "    </tr>\n",
       "    <tr>\n",
       "      <th>266</th>\n",
       "      <td>(mineral water)</td>\n",
       "      <td>(french fries, spaghetti)</td>\n",
       "      <td>0.238368</td>\n",
       "      <td>0.027596</td>\n",
       "      <td>0.010132</td>\n",
       "      <td>0.042506</td>\n",
       "      <td>1.540263</td>\n",
       "      <td>0.003554</td>\n",
       "      <td>1.015571</td>\n",
       "      <td>1</td>\n",
       "      <td>2</td>\n",
       "    </tr>\n",
       "  </tbody>\n",
       "</table>\n",
       "<p>340 rows × 11 columns</p>\n",
       "</div>"
      ],
      "text/plain": [
       "                   antecedents                consequents  antecedent support  \\\n",
       "260        (ground beef, eggs)            (mineral water)            0.019997   \n",
       "318        (ground beef, milk)            (mineral water)            0.021997   \n",
       "312   (ground beef, chocolate)            (mineral water)            0.023064   \n",
       "323  (frozen vegetables, milk)            (mineral water)            0.023597   \n",
       "35                      (soup)            (mineral water)            0.050527   \n",
       "..                         ...                        ...                 ...   \n",
       "326            (mineral water)  (frozen vegetables, milk)            0.238368   \n",
       "313            (mineral water)   (ground beef, chocolate)            0.238368   \n",
       "302            (mineral water)     (olive oil, spaghetti)            0.238368   \n",
       "261            (mineral water)        (ground beef, eggs)            0.238368   \n",
       "266            (mineral water)  (french fries, spaghetti)            0.238368   \n",
       "\n",
       "     consequent support   support  confidence      lift  leverage  conviction  \\\n",
       "260            0.238368  0.010132    0.506667  2.125563  0.005365    1.543848   \n",
       "318            0.238368  0.011065    0.503030  2.110308  0.005822    1.532552   \n",
       "312            0.238368  0.010932    0.473988  1.988472  0.005434    1.447937   \n",
       "323            0.238368  0.011065    0.468927  1.967236  0.005440    1.434136   \n",
       "35             0.238368  0.023064    0.456464  1.914955  0.011020    1.401255   \n",
       "..                  ...       ...         ...       ...       ...         ...   \n",
       "326            0.023597  0.011065    0.046421  1.967236  0.005440    1.023935   \n",
       "313            0.023064  0.010932    0.045861  1.988472  0.005434    1.023893   \n",
       "302            0.022930  0.010265    0.043065  1.878079  0.004799    1.021041   \n",
       "261            0.019997  0.010132    0.042506  2.125563  0.005365    1.023507   \n",
       "266            0.027596  0.010132    0.042506  1.540263  0.003554    1.015571   \n",
       "\n",
       "     antecedents_length  consequents_length  \n",
       "260                   2                   1  \n",
       "318                   2                   1  \n",
       "312                   2                   1  \n",
       "323                   2                   1  \n",
       "35                    1                   1  \n",
       "..                  ...                 ...  \n",
       "326                   1                   2  \n",
       "313                   1                   2  \n",
       "302                   1                   2  \n",
       "261                   1                   2  \n",
       "266                   1                   2  \n",
       "\n",
       "[340 rows x 11 columns]"
      ]
     },
     "execution_count": 58,
     "metadata": {},
     "output_type": "execute_result"
    }
   ],
   "source": [
    "rules.sort_values(\"confidence\",ascending=False)"
   ]
  },
  {
   "cell_type": "code",
   "execution_count": 59,
   "id": "ef4308ef",
   "metadata": {},
   "outputs": [
    {
     "data": {
      "text/html": [
       "<div>\n",
       "<style scoped>\n",
       "    .dataframe tbody tr th:only-of-type {\n",
       "        vertical-align: middle;\n",
       "    }\n",
       "\n",
       "    .dataframe tbody tr th {\n",
       "        vertical-align: top;\n",
       "    }\n",
       "\n",
       "    .dataframe thead th {\n",
       "        text-align: right;\n",
       "    }\n",
       "</style>\n",
       "<table border=\"1\" class=\"dataframe\">\n",
       "  <thead>\n",
       "    <tr style=\"text-align: right;\">\n",
       "      <th></th>\n",
       "      <th>antecedents</th>\n",
       "      <th>consequents</th>\n",
       "      <th>antecedent support</th>\n",
       "      <th>consequent support</th>\n",
       "      <th>support</th>\n",
       "      <th>confidence</th>\n",
       "      <th>lift</th>\n",
       "      <th>leverage</th>\n",
       "      <th>conviction</th>\n",
       "      <th>antecedents_length</th>\n",
       "      <th>consequents_length</th>\n",
       "    </tr>\n",
       "  </thead>\n",
       "  <tbody>\n",
       "    <tr>\n",
       "      <th>68</th>\n",
       "      <td>(ground beef)</td>\n",
       "      <td>(spaghetti)</td>\n",
       "      <td>0.098254</td>\n",
       "      <td>0.174110</td>\n",
       "      <td>0.039195</td>\n",
       "      <td>0.398915</td>\n",
       "      <td>2.291162</td>\n",
       "      <td>0.022088</td>\n",
       "      <td>1.373997</td>\n",
       "      <td>1</td>\n",
       "      <td>1</td>\n",
       "    </tr>\n",
       "    <tr>\n",
       "      <th>82</th>\n",
       "      <td>(olive oil)</td>\n",
       "      <td>(spaghetti)</td>\n",
       "      <td>0.065858</td>\n",
       "      <td>0.174110</td>\n",
       "      <td>0.022930</td>\n",
       "      <td>0.348178</td>\n",
       "      <td>1.999758</td>\n",
       "      <td>0.011464</td>\n",
       "      <td>1.267048</td>\n",
       "      <td>1</td>\n",
       "      <td>1</td>\n",
       "    </tr>\n",
       "    <tr>\n",
       "      <th>334</th>\n",
       "      <td>(chocolate, milk)</td>\n",
       "      <td>(spaghetti)</td>\n",
       "      <td>0.032129</td>\n",
       "      <td>0.174110</td>\n",
       "      <td>0.010932</td>\n",
       "      <td>0.340249</td>\n",
       "      <td>1.954217</td>\n",
       "      <td>0.005338</td>\n",
       "      <td>1.251821</td>\n",
       "      <td>2</td>\n",
       "      <td>1</td>\n",
       "    </tr>\n",
       "    <tr>\n",
       "      <th>51</th>\n",
       "      <td>(burgers)</td>\n",
       "      <td>(eggs)</td>\n",
       "      <td>0.087188</td>\n",
       "      <td>0.179709</td>\n",
       "      <td>0.028796</td>\n",
       "      <td>0.330275</td>\n",
       "      <td>1.837830</td>\n",
       "      <td>0.013128</td>\n",
       "      <td>1.224818</td>\n",
       "      <td>1</td>\n",
       "      <td>1</td>\n",
       "    </tr>\n",
       "    <tr>\n",
       "      <th>98</th>\n",
       "      <td>(herb &amp; pepper)</td>\n",
       "      <td>(spaghetti)</td>\n",
       "      <td>0.049460</td>\n",
       "      <td>0.174110</td>\n",
       "      <td>0.016264</td>\n",
       "      <td>0.328841</td>\n",
       "      <td>1.888695</td>\n",
       "      <td>0.007653</td>\n",
       "      <td>1.230543</td>\n",
       "      <td>1</td>\n",
       "      <td>1</td>\n",
       "    </tr>\n",
       "    <tr>\n",
       "      <th>211</th>\n",
       "      <td>(herb &amp; pepper)</td>\n",
       "      <td>(ground beef)</td>\n",
       "      <td>0.049460</td>\n",
       "      <td>0.098254</td>\n",
       "      <td>0.015998</td>\n",
       "      <td>0.323450</td>\n",
       "      <td>3.291994</td>\n",
       "      <td>0.011138</td>\n",
       "      <td>1.332860</td>\n",
       "      <td>1</td>\n",
       "      <td>1</td>\n",
       "    </tr>\n",
       "    <tr>\n",
       "      <th>328</th>\n",
       "      <td>(eggs, chocolate)</td>\n",
       "      <td>(spaghetti)</td>\n",
       "      <td>0.033196</td>\n",
       "      <td>0.174110</td>\n",
       "      <td>0.010532</td>\n",
       "      <td>0.317269</td>\n",
       "      <td>1.822232</td>\n",
       "      <td>0.004752</td>\n",
       "      <td>1.209686</td>\n",
       "      <td>2</td>\n",
       "      <td>1</td>\n",
       "    </tr>\n",
       "    <tr>\n",
       "      <th>102</th>\n",
       "      <td>(salmon)</td>\n",
       "      <td>(spaghetti)</td>\n",
       "      <td>0.042528</td>\n",
       "      <td>0.174110</td>\n",
       "      <td>0.013465</td>\n",
       "      <td>0.316614</td>\n",
       "      <td>1.818472</td>\n",
       "      <td>0.006060</td>\n",
       "      <td>1.208527</td>\n",
       "      <td>1</td>\n",
       "      <td>1</td>\n",
       "    </tr>\n",
       "    <tr>\n",
       "      <th>92</th>\n",
       "      <td>(grated cheese)</td>\n",
       "      <td>(spaghetti)</td>\n",
       "      <td>0.052393</td>\n",
       "      <td>0.174110</td>\n",
       "      <td>0.016531</td>\n",
       "      <td>0.315522</td>\n",
       "      <td>1.812196</td>\n",
       "      <td>0.007409</td>\n",
       "      <td>1.206597</td>\n",
       "      <td>1</td>\n",
       "      <td>1</td>\n",
       "    </tr>\n",
       "    <tr>\n",
       "      <th>56</th>\n",
       "      <td>(turkey)</td>\n",
       "      <td>(eggs)</td>\n",
       "      <td>0.062525</td>\n",
       "      <td>0.179709</td>\n",
       "      <td>0.019464</td>\n",
       "      <td>0.311301</td>\n",
       "      <td>1.732245</td>\n",
       "      <td>0.008228</td>\n",
       "      <td>1.191072</td>\n",
       "      <td>1</td>\n",
       "      <td>1</td>\n",
       "    </tr>\n",
       "  </tbody>\n",
       "</table>\n",
       "</div>"
      ],
      "text/plain": [
       "           antecedents    consequents  antecedent support  consequent support  \\\n",
       "68       (ground beef)    (spaghetti)            0.098254            0.174110   \n",
       "82         (olive oil)    (spaghetti)            0.065858            0.174110   \n",
       "334  (chocolate, milk)    (spaghetti)            0.032129            0.174110   \n",
       "51           (burgers)         (eggs)            0.087188            0.179709   \n",
       "98     (herb & pepper)    (spaghetti)            0.049460            0.174110   \n",
       "211    (herb & pepper)  (ground beef)            0.049460            0.098254   \n",
       "328  (eggs, chocolate)    (spaghetti)            0.033196            0.174110   \n",
       "102           (salmon)    (spaghetti)            0.042528            0.174110   \n",
       "92     (grated cheese)    (spaghetti)            0.052393            0.174110   \n",
       "56            (turkey)         (eggs)            0.062525            0.179709   \n",
       "\n",
       "      support  confidence      lift  leverage  conviction  antecedents_length  \\\n",
       "68   0.039195    0.398915  2.291162  0.022088    1.373997                   1   \n",
       "82   0.022930    0.348178  1.999758  0.011464    1.267048                   1   \n",
       "334  0.010932    0.340249  1.954217  0.005338    1.251821                   2   \n",
       "51   0.028796    0.330275  1.837830  0.013128    1.224818                   1   \n",
       "98   0.016264    0.328841  1.888695  0.007653    1.230543                   1   \n",
       "211  0.015998    0.323450  3.291994  0.011138    1.332860                   1   \n",
       "328  0.010532    0.317269  1.822232  0.004752    1.209686                   2   \n",
       "102  0.013465    0.316614  1.818472  0.006060    1.208527                   1   \n",
       "92   0.016531    0.315522  1.812196  0.007409    1.206597                   1   \n",
       "56   0.019464    0.311301  1.732245  0.008228    1.191072                   1   \n",
       "\n",
       "     consequents_length  \n",
       "68                    1  \n",
       "82                    1  \n",
       "334                   1  \n",
       "51                    1  \n",
       "98                    1  \n",
       "211                   1  \n",
       "328                   1  \n",
       "102                   1  \n",
       "92                    1  \n",
       "56                    1  "
      ]
     },
     "execution_count": 59,
     "metadata": {},
     "output_type": "execute_result"
    }
   ],
   "source": [
    "rules[~rules[\"consequents\"].str.contains(\"mineral water\", regex=False) & \n",
    "      ~rules[\"antecedents\"].str.contains(\"mineral water\", regex=False)].sort_values(\"confidence\", ascending=False).head(10)"
   ]
  },
  {
   "cell_type": "code",
   "execution_count": 60,
   "id": "8901bce6",
   "metadata": {},
   "outputs": [
    {
     "data": {
      "text/html": [
       "<div>\n",
       "<style scoped>\n",
       "    .dataframe tbody tr th:only-of-type {\n",
       "        vertical-align: middle;\n",
       "    }\n",
       "\n",
       "    .dataframe tbody tr th {\n",
       "        vertical-align: top;\n",
       "    }\n",
       "\n",
       "    .dataframe thead th {\n",
       "        text-align: right;\n",
       "    }\n",
       "</style>\n",
       "<table border=\"1\" class=\"dataframe\">\n",
       "  <thead>\n",
       "    <tr style=\"text-align: right;\">\n",
       "      <th></th>\n",
       "      <th>antecedents</th>\n",
       "      <th>consequents</th>\n",
       "      <th>antecedent support</th>\n",
       "      <th>consequent support</th>\n",
       "      <th>support</th>\n",
       "      <th>confidence</th>\n",
       "      <th>lift</th>\n",
       "      <th>leverage</th>\n",
       "      <th>conviction</th>\n",
       "      <th>antecedents_length</th>\n",
       "      <th>consequents_length</th>\n",
       "    </tr>\n",
       "  </thead>\n",
       "  <tbody>\n",
       "    <tr>\n",
       "      <th>7</th>\n",
       "      <td>(ground beef)</td>\n",
       "      <td>(mineral water)</td>\n",
       "      <td>0.098254</td>\n",
       "      <td>0.238368</td>\n",
       "      <td>0.040928</td>\n",
       "      <td>0.416554</td>\n",
       "      <td>1.747522</td>\n",
       "      <td>0.017507</td>\n",
       "      <td>1.305401</td>\n",
       "      <td>1</td>\n",
       "      <td>1</td>\n",
       "    </tr>\n",
       "    <tr>\n",
       "      <th>68</th>\n",
       "      <td>(ground beef)</td>\n",
       "      <td>(spaghetti)</td>\n",
       "      <td>0.098254</td>\n",
       "      <td>0.174110</td>\n",
       "      <td>0.039195</td>\n",
       "      <td>0.398915</td>\n",
       "      <td>2.291162</td>\n",
       "      <td>0.022088</td>\n",
       "      <td>1.373997</td>\n",
       "      <td>1</td>\n",
       "      <td>1</td>\n",
       "    </tr>\n",
       "    <tr>\n",
       "      <th>120</th>\n",
       "      <td>(ground beef)</td>\n",
       "      <td>(chocolate)</td>\n",
       "      <td>0.098254</td>\n",
       "      <td>0.163845</td>\n",
       "      <td>0.023064</td>\n",
       "      <td>0.234735</td>\n",
       "      <td>1.432669</td>\n",
       "      <td>0.006965</td>\n",
       "      <td>1.092635</td>\n",
       "      <td>1</td>\n",
       "      <td>1</td>\n",
       "    </tr>\n",
       "    <tr>\n",
       "      <th>166</th>\n",
       "      <td>(ground beef)</td>\n",
       "      <td>(milk)</td>\n",
       "      <td>0.098254</td>\n",
       "      <td>0.129583</td>\n",
       "      <td>0.021997</td>\n",
       "      <td>0.223881</td>\n",
       "      <td>1.727704</td>\n",
       "      <td>0.009265</td>\n",
       "      <td>1.121499</td>\n",
       "      <td>1</td>\n",
       "      <td>1</td>\n",
       "    </tr>\n",
       "    <tr>\n",
       "      <th>284</th>\n",
       "      <td>(ground beef)</td>\n",
       "      <td>(mineral water, spaghetti)</td>\n",
       "      <td>0.098254</td>\n",
       "      <td>0.059725</td>\n",
       "      <td>0.017064</td>\n",
       "      <td>0.173677</td>\n",
       "      <td>2.907928</td>\n",
       "      <td>0.011196</td>\n",
       "      <td>1.137902</td>\n",
       "      <td>1</td>\n",
       "      <td>2</td>\n",
       "    </tr>\n",
       "    <tr>\n",
       "      <th>197</th>\n",
       "      <td>(ground beef)</td>\n",
       "      <td>(frozen vegetables)</td>\n",
       "      <td>0.098254</td>\n",
       "      <td>0.095321</td>\n",
       "      <td>0.016931</td>\n",
       "      <td>0.172320</td>\n",
       "      <td>1.807796</td>\n",
       "      <td>0.007565</td>\n",
       "      <td>1.093031</td>\n",
       "      <td>1</td>\n",
       "      <td>1</td>\n",
       "    </tr>\n",
       "    <tr>\n",
       "      <th>210</th>\n",
       "      <td>(ground beef)</td>\n",
       "      <td>(herb &amp; pepper)</td>\n",
       "      <td>0.098254</td>\n",
       "      <td>0.049460</td>\n",
       "      <td>0.015998</td>\n",
       "      <td>0.162822</td>\n",
       "      <td>3.291994</td>\n",
       "      <td>0.011138</td>\n",
       "      <td>1.135410</td>\n",
       "      <td>1</td>\n",
       "      <td>1</td>\n",
       "    </tr>\n",
       "    <tr>\n",
       "      <th>198</th>\n",
       "      <td>(ground beef)</td>\n",
       "      <td>(pancakes)</td>\n",
       "      <td>0.098254</td>\n",
       "      <td>0.095054</td>\n",
       "      <td>0.014531</td>\n",
       "      <td>0.147897</td>\n",
       "      <td>1.555925</td>\n",
       "      <td>0.005192</td>\n",
       "      <td>1.062015</td>\n",
       "      <td>1</td>\n",
       "      <td>1</td>\n",
       "    </tr>\n",
       "    <tr>\n",
       "      <th>207</th>\n",
       "      <td>(ground beef)</td>\n",
       "      <td>(olive oil)</td>\n",
       "      <td>0.098254</td>\n",
       "      <td>0.065858</td>\n",
       "      <td>0.014131</td>\n",
       "      <td>0.143826</td>\n",
       "      <td>2.183889</td>\n",
       "      <td>0.007661</td>\n",
       "      <td>1.091066</td>\n",
       "      <td>1</td>\n",
       "      <td>1</td>\n",
       "    </tr>\n",
       "    <tr>\n",
       "      <th>200</th>\n",
       "      <td>(ground beef)</td>\n",
       "      <td>(burgers)</td>\n",
       "      <td>0.098254</td>\n",
       "      <td>0.087188</td>\n",
       "      <td>0.011998</td>\n",
       "      <td>0.122117</td>\n",
       "      <td>1.400607</td>\n",
       "      <td>0.003432</td>\n",
       "      <td>1.039787</td>\n",
       "      <td>1</td>\n",
       "      <td>1</td>\n",
       "    </tr>\n",
       "  </tbody>\n",
       "</table>\n",
       "</div>"
      ],
      "text/plain": [
       "       antecedents                 consequents  antecedent support  \\\n",
       "7    (ground beef)             (mineral water)            0.098254   \n",
       "68   (ground beef)                 (spaghetti)            0.098254   \n",
       "120  (ground beef)                 (chocolate)            0.098254   \n",
       "166  (ground beef)                      (milk)            0.098254   \n",
       "284  (ground beef)  (mineral water, spaghetti)            0.098254   \n",
       "197  (ground beef)         (frozen vegetables)            0.098254   \n",
       "210  (ground beef)             (herb & pepper)            0.098254   \n",
       "198  (ground beef)                  (pancakes)            0.098254   \n",
       "207  (ground beef)                 (olive oil)            0.098254   \n",
       "200  (ground beef)                   (burgers)            0.098254   \n",
       "\n",
       "     consequent support   support  confidence      lift  leverage  conviction  \\\n",
       "7              0.238368  0.040928    0.416554  1.747522  0.017507    1.305401   \n",
       "68             0.174110  0.039195    0.398915  2.291162  0.022088    1.373997   \n",
       "120            0.163845  0.023064    0.234735  1.432669  0.006965    1.092635   \n",
       "166            0.129583  0.021997    0.223881  1.727704  0.009265    1.121499   \n",
       "284            0.059725  0.017064    0.173677  2.907928  0.011196    1.137902   \n",
       "197            0.095321  0.016931    0.172320  1.807796  0.007565    1.093031   \n",
       "210            0.049460  0.015998    0.162822  3.291994  0.011138    1.135410   \n",
       "198            0.095054  0.014531    0.147897  1.555925  0.005192    1.062015   \n",
       "207            0.065858  0.014131    0.143826  2.183889  0.007661    1.091066   \n",
       "200            0.087188  0.011998    0.122117  1.400607  0.003432    1.039787   \n",
       "\n",
       "     antecedents_length  consequents_length  \n",
       "7                     1                   1  \n",
       "68                    1                   1  \n",
       "120                   1                   1  \n",
       "166                   1                   1  \n",
       "284                   1                   2  \n",
       "197                   1                   1  \n",
       "210                   1                   1  \n",
       "198                   1                   1  \n",
       "207                   1                   1  \n",
       "200                   1                   1  "
      ]
     },
     "execution_count": 60,
     "metadata": {},
     "output_type": "execute_result"
    }
   ],
   "source": [
    "rules[rules[\"antecedents\"].str.contains(\"ground beef\", regex=False) & rules[\"antecedents_length\"] == 1].sort_values(\"confidence\", ascending=False).head(10)"
   ]
  },
  {
   "cell_type": "markdown",
   "id": "3c719469",
   "metadata": {},
   "source": [
    "There are many associations with high confidence and lift score. We are on the right way!"
   ]
  },
  {
   "cell_type": "markdown",
   "id": "bf0700a5",
   "metadata": {},
   "source": [
    "## Results"
   ]
  },
  {
   "cell_type": "markdown",
   "id": "ca471aa1",
   "metadata": {},
   "source": [
    "As you seen on above investigations, the flexibility of the algorithm and the mlxtend library is high therefore we can easily investigate different aspects and get new associations from the data. From that reason, the investigations could be further detailed by taking other products (rest of the Top50) into calculation or changing the criteria threshold. Nevertheless, since the association rule learning has an iterative schema, data understanding and interpretation skills and activities are really important. In that case, we should give enough importance to data visualization and/or data cleansing (if required) steps to be sure we are on the right way."
   ]
  },
  {
   "cell_type": "code",
   "execution_count": null,
   "id": "1eb3332b",
   "metadata": {},
   "outputs": [],
   "source": []
  }
 ],
 "metadata": {
  "kernelspec": {
   "display_name": "Python 3",
   "language": "python",
   "name": "python3"
  },
  "language_info": {
   "codemirror_mode": {
    "name": "ipython",
    "version": 3
   },
   "file_extension": ".py",
   "mimetype": "text/x-python",
   "name": "python",
   "nbconvert_exporter": "python",
   "pygments_lexer": "ipython3",
   "version": "3.8.8"
  }
 },
 "nbformat": 4,
 "nbformat_minor": 5
}
